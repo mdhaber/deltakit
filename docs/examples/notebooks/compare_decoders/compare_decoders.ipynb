{
 "cells": [
  {
   "cell_type": "code",
   "execution_count": 1,
   "id": "6e4c5b5b-c4f2-4845-8bc9-f71c977a98a9",
   "metadata": {
    "execution": {
     "iopub.execute_input": "2025-08-20T03:56:28.212345Z",
     "iopub.status.busy": "2025-08-20T03:56:28.212086Z",
     "iopub.status.idle": "2025-08-20T03:56:29.718470Z",
     "shell.execute_reply": "2025-08-20T03:56:29.718159Z",
     "shell.execute_reply.started": "2025-08-20T03:56:28.212327Z"
    }
   },
   "outputs": [],
   "source": [
    "from deltakit.circuit.gates import PauliBasis, SQRT_X, SQRT_X_DAG, S_DAG, S, X, CZ, RZ, MZ, Z, H\n",
    "from deltakit.explorer.codes import RotatedPlanarCode, UnrotatedPlanarCode, css_code_memory_circuit\n",
    "from deltakit.explorer.qpu import QPU, SI1000Noise, NativeGateSet\n",
    "from deltakit.decode.analysis import StimDecoderManager\n",
    "from deltakit.decode import PyMatchingDecoder"
   ]
  },
  {
   "cell_type": "markdown",
   "id": "6b7fbc05-42e7-4ee6-8072-f19ecb1d0421",
   "metadata": {},
   "source": [
    "# Run a QEC experiment with Deltakit and compare different decoders"
   ]
  },
  {
   "cell_type": "markdown",
   "id": "6989d986-51b9-47b9-aecc-6974097f6a90",
   "metadata": {},
   "source": [
    "In this notebook, you will run a memory experiment with Deltakit, and compare the logical error rates of different decoders to one another."
   ]
  },
  {
   "cell_type": "markdown",
   "id": "197244d8-ec3a-47c2-9d27-b6e04d6e9515",
   "metadata": {},
   "source": [
    "<img src=\"./QEC_experiment.png\" width=500>"
   ]
  },
  {
   "cell_type": "code",
   "execution_count": 2,
   "id": "e0f25158-8b8f-4b2a-9631-b20844bdad35",
   "metadata": {
    "execution": {
     "iopub.execute_input": "2025-08-20T03:56:29.718818Z",
     "iopub.status.busy": "2025-08-20T03:56:29.718690Z",
     "iopub.status.idle": "2025-08-20T03:56:29.720665Z",
     "shell.execute_reply": "2025-08-20T03:56:29.720471Z",
     "shell.execute_reply.started": "2025-08-20T03:56:29.718810Z"
    }
   },
   "outputs": [],
   "source": [
    "# Create code for desired distance: dd Rotated planar code\n",
    "distance = 3\n",
    "num_rounds = 3\n",
    "code = RotatedPlanarCode(width=distance, height=distance)"
   ]
  },
  {
   "cell_type": "code",
   "execution_count": 3,
   "id": "7cb224eb-85ee-4774-af15-e7f0bd260d6e",
   "metadata": {
    "execution": {
     "iopub.execute_input": "2025-08-20T03:56:29.720969Z",
     "iopub.status.busy": "2025-08-20T03:56:29.720901Z",
     "iopub.status.idle": "2025-08-20T03:56:29.727432Z",
     "shell.execute_reply": "2025-08-20T03:56:29.727215Z",
     "shell.execute_reply.started": "2025-08-20T03:56:29.720963Z"
    }
   },
   "outputs": [],
   "source": [
    "# Create noiseless circuit: d-rounds of syndrome extraction, initialise in Z basis\n",
    "noiseless_circuit = css_code_memory_circuit(\n",
    "    code, num_rounds=num_rounds, logical_basis=PauliBasis.Z\n",
    ")"
   ]
  },
  {
   "cell_type": "code",
   "execution_count": 4,
   "id": "b9a24bdd-0e3f-4585-ac96-9a5225d106a9",
   "metadata": {
    "execution": {
     "iopub.execute_input": "2025-08-20T03:56:29.727746Z",
     "iopub.status.busy": "2025-08-20T03:56:29.727687Z",
     "iopub.status.idle": "2025-08-20T03:56:29.827471Z",
     "shell.execute_reply": "2025-08-20T03:56:29.827241Z",
     "shell.execute_reply.started": "2025-08-20T03:56:29.727740Z"
    },
    "scrolled": true
   },
   "outputs": [
    {
     "name": "stdout",
     "output_type": "stream",
     "text": [
      "QUBIT_COORDS(2, 4) 0\n",
      "QUBIT_COORDS(4, 0) 1\n",
      "QUBIT_COORDS(1, 5) 2\n",
      "QUBIT_COORDS(3, 1) 3\n",
      "QUBIT_COORDS(5, 1) 4\n",
      "QUBIT_COORDS(6, 4) 5\n",
      "QUBIT_COORDS(0, 2) 6\n",
      "QUBIT_COORDS(2, 2) 7\n",
      "QUBIT_COORDS(1, 3) 8\n",
      "QUBIT_COORDS(3, 5) 9\n",
      "QUBIT_COORDS(4, 4) 10\n",
      "QUBIT_COORDS(5, 5) 11\n",
      "QUBIT_COORDS(1, 1) 12\n",
      "QUBIT_COORDS(4, 2) 13\n",
      "QUBIT_COORDS(3, 3) 14\n",
      "QUBIT_COORDS(2, 6) 15\n",
      "QUBIT_COORDS(5, 3) 16\n",
      "R 8 16 14 9 4 12 11 2 3\n",
      "RX 5 1 0 13 6 10 15 7\n",
      "TICK\n",
      "I 12 8 2 3 14 9 4 16 11\n",
      "TICK\n",
      "CX 5 11 0 2 13 14\n",
      "CZ 1 3 10 9 7 8\n",
      "TICK\n",
      "CX 5 16 0 8 13 3\n",
      "CZ 1 4 10 11 7 14\n",
      "TICK\n",
      "CX 0 9 13 16 6 8\n",
      "CZ 10 14 15 2 7 12\n",
      "TICK\n",
      "CX 0 14 13 4 6 12\n",
      "CZ 10 16 15 9 7 3\n",
      "TICK\n",
      "MX 5 1 0 13 6 10 15 7\n",
      "TICK\n",
      "DETECTOR(4, 0, 0) rec[-7]\n",
      "DETECTOR(4, 4, 0) rec[-3]\n",
      "DETECTOR(2, 6, 0) rec[-2]\n",
      "DETECTOR(2, 2, 0) rec[-1]\n",
      "SHIFT_COORDS(0, 0, 1)\n",
      "RX 5 1 0 13 6 10 15 7\n",
      "I 12 8 2 3 14 9 4 16 11\n",
      "TICK\n",
      "CX 5 11 0 2 13 14\n",
      "CZ 1 3 10 9 7 8\n",
      "TICK\n",
      "CX 5 16 0 8 13 3\n",
      "CZ 1 4 10 11 7 14\n",
      "TICK\n",
      "CX 0 9 13 16 6 8\n",
      "CZ 10 14 15 2 7 12\n",
      "TICK\n",
      "CX 0 14 13 4 6 12\n",
      "CZ 10 16 15 9 7 3\n",
      "TICK\n",
      "MX 5 1 0 13 6 10 15 7\n",
      "TICK\n",
      "DETECTOR(6, 4, 0) rec[-8] rec[-16]\n",
      "DETECTOR(4, 0, 0) rec[-7] rec[-15]\n",
      "DETECTOR(2, 4, 0) rec[-6] rec[-14]\n",
      "DETECTOR(4, 2, 0) rec[-5] rec[-13]\n",
      "DETECTOR(0, 2, 0) rec[-4] rec[-12]\n",
      "DETECTOR(4, 4, 0) rec[-3] rec[-11]\n",
      "DETECTOR(2, 6, 0) rec[-2] rec[-10]\n",
      "DETECTOR(2, 2, 0) rec[-1] rec[-9]\n",
      "SHIFT_COORDS(0, 0, 1)\n",
      "RX 5 1 0 13 6 10 15 7\n",
      "I 12 8 2 3 14 9 4 16 11\n",
      "TICK\n",
      "CX 5 11 0 2 13 14\n",
      "CZ 1 3 10 9 7 8\n",
      "TICK\n",
      "CX 5 16 0 8 13 3\n",
      "CZ 1 4 10 11 7 14\n",
      "TICK\n",
      "CX 0 9 13 16 6 8\n",
      "CZ 10 14 15 2 7 12\n",
      "TICK\n",
      "CX 0 14 13 4 6 12\n",
      "CZ 10 16 15 9 7 3\n",
      "TICK\n",
      "MX 5 1 0 13 6 10 15 7\n",
      "M 11 2 3 12 4 14 16 8 9\n",
      "DETECTOR(6, 4, 0) rec[-25] rec[-17]\n",
      "DETECTOR(4, 0, 0) rec[-16] rec[-24]\n",
      "DETECTOR(2, 4, 0) rec[-15] rec[-23]\n",
      "DETECTOR(4, 2, 0) rec[-14] rec[-22]\n",
      "DETECTOR(0, 2, 0) rec[-13] rec[-21]\n",
      "DETECTOR(4, 4, 0) rec[-12] rec[-20]\n",
      "DETECTOR(2, 6, 0) rec[-19] rec[-11]\n",
      "DETECTOR(2, 2, 0) rec[-10] rec[-18]\n",
      "SHIFT_COORDS(0, 0, 1)\n",
      "OBSERVABLE_INCLUDE(0) rec[-8] rec[-6] rec[-2]\n",
      "DETECTOR(4, 0, 0) rec[-16] rec[-7] rec[-5]\n",
      "DETECTOR(4, 4, 0) rec[-12] rec[-9] rec[-4] rec[-3] rec[-1]\n",
      "DETECTOR(2, 6, 0) rec[-8] rec[-11] rec[-1]\n",
      "DETECTOR(2, 2, 0) rec[-10] rec[-7] rec[-6] rec[-4] rec[-2]\n",
      "SHIFT_COORDS(0, 0, 1)\n"
     ]
    }
   ],
   "source": [
    "# Print generated Stim circuit\n",
    "print(noiseless_circuit.as_stim_circuit())"
   ]
  },
  {
   "cell_type": "code",
   "execution_count": 5,
   "id": "8e6a20bb-262e-4279-9e42-490d7e57ecb4",
   "metadata": {
    "execution": {
     "iopub.execute_input": "2025-08-20T03:56:29.827871Z",
     "iopub.status.busy": "2025-08-20T03:56:29.827796Z",
     "iopub.status.idle": "2025-08-20T03:56:29.829313Z",
     "shell.execute_reply": "2025-08-20T03:56:29.829056Z",
     "shell.execute_reply.started": "2025-08-20T03:56:29.827863Z"
    }
   },
   "outputs": [],
   "source": [
    "# Superconducting-inspired noise model at p=10^-3\n",
    "noise_model = SI1000Noise(p=1e-3)"
   ]
  },
  {
   "cell_type": "code",
   "execution_count": 6,
   "id": "83a72d56-bc21-457b-920c-ac8a3937bb32",
   "metadata": {
    "execution": {
     "iopub.execute_input": "2025-08-20T03:56:29.830558Z",
     "iopub.status.busy": "2025-08-20T03:56:29.830492Z",
     "iopub.status.idle": "2025-08-20T03:56:29.832126Z",
     "shell.execute_reply": "2025-08-20T03:56:29.831915Z",
     "shell.execute_reply.started": "2025-08-20T03:56:29.830552Z"
    }
   },
   "outputs": [],
   "source": [
    "# QPU with standard native gate set\n",
    "qpu = QPU(\n",
    "    code.qubits,\n",
    "    # native gates for superconducting qubits\n",
    "    native_gates_and_times=NativeGateSet(\n",
    "        one_qubit_gates={SQRT_X, SQRT_X_DAG, S_DAG, S, X, Z},\n",
    "        two_qubit_gates={CZ},\n",
    "        reset_gates={RZ},\n",
    "        measurement_gates={MZ},\n",
    "    ),\n",
    "    noise_model=noise_model,\n",
    ")"
   ]
  },
  {
   "cell_type": "code",
   "execution_count": 7,
   "id": "d53ac279-9090-4228-a3c9-3245271bf852",
   "metadata": {
    "execution": {
     "iopub.execute_input": "2025-08-20T03:56:29.832451Z",
     "iopub.status.busy": "2025-08-20T03:56:29.832333Z",
     "iopub.status.idle": "2025-08-20T03:56:29.892501Z",
     "shell.execute_reply": "2025-08-20T03:56:29.892238Z",
     "shell.execute_reply.started": "2025-08-20T03:56:29.832445Z"
    }
   },
   "outputs": [],
   "source": [
    "# Compile noiseless circuit to QU and add noise\n",
    "noisy_circ = qpu.compile_and_add_noise_to_circuit(noiseless_circuit)"
   ]
  },
  {
   "cell_type": "code",
   "execution_count": 8,
   "id": "faac725b-a7db-46ac-badc-d40fbefa7537",
   "metadata": {
    "execution": {
     "iopub.execute_input": "2025-08-20T03:56:29.892823Z",
     "iopub.status.busy": "2025-08-20T03:56:29.892753Z",
     "iopub.status.idle": "2025-08-20T03:56:30.693134Z",
     "shell.execute_reply": "2025-08-20T03:56:30.692861Z",
     "shell.execute_reply.started": "2025-08-20T03:56:29.892815Z"
    }
   },
   "outputs": [
    {
     "name": "stdout",
     "output_type": "stream",
     "text": [
      "Logical error rate for MWPW: 0.00409\n"
     ]
    }
   ],
   "source": [
    "# Create a decoder\n",
    "decoder, stim_circuit = PyMatchingDecoder.construct_decoder_and_stim_circuit(\n",
    "    noisy_circ\n",
    ")\n",
    "# Run a simple experiment with 1e5 shots\n",
    "num_shots = 1e5\n",
    "experiment_decoder_manager = StimDecoderManager(\n",
    "    stim_circuit, decoder\n",
    ")\n",
    "pct1_shots, pct1_fails = experiment_decoder_manager.run_batch_shots(num_shots)\n",
    "print(f\"Logical error rate for MWPW: {pct1_fails/pct1_shots}\")"
   ]
  },
  {
   "cell_type": "markdown",
   "id": "63c6a902-4c8a-4d3a-82a1-db8f02a78d16",
   "metadata": {},
   "source": [
    "# Simulate and decode with Deltakit Cloud decoders"
   ]
  },
  {
   "cell_type": "markdown",
   "id": "865d5a83-d4d3-450b-9698-bb2777320617",
   "metadata": {},
   "source": [
    "In addition to open source decoders, Deltakit supports Cloud-based decoders that you can access via the platform. You'll log in via https://deltakit.riverlane.com/ and get a token that will let you access the service."
   ]
  },
  {
   "cell_type": "code",
   "execution_count": 9,
   "id": "dea41a5d-e467-4ab5-944b-0d3a7053b8d2",
   "metadata": {
    "execution": {
     "iopub.execute_input": "2025-08-20T03:56:30.693469Z",
     "iopub.status.busy": "2025-08-20T03:56:30.693387Z",
     "iopub.status.idle": "2025-08-20T03:56:30.697439Z",
     "shell.execute_reply": "2025-08-20T03:56:30.697236Z",
     "shell.execute_reply.started": "2025-08-20T03:56:30.693459Z"
    }
   },
   "outputs": [],
   "source": [
    "from deltakit.explorer import Client\n",
    "from deltakit.explorer.types import Decoder\n",
    "from deltakit.explorer.enums import DecoderType"
   ]
  },
  {
   "cell_type": "markdown",
   "id": "19cf77dc-b694-45ab-8990-98351748814c",
   "metadata": {},
   "source": [
    "<img src=\"./cloud.png\" width=350>"
   ]
  },
  {
   "cell_type": "code",
   "execution_count": 10,
   "id": "b33c3d55-0f94-4ce1-820f-bfd3af62ff66",
   "metadata": {
    "execution": {
     "iopub.execute_input": "2025-08-20T03:56:30.697809Z",
     "iopub.status.busy": "2025-08-20T03:56:30.697740Z",
     "iopub.status.idle": "2025-08-20T03:56:30.699030Z",
     "shell.execute_reply": "2025-08-20T03:56:30.698829Z",
     "shell.execute_reply.started": "2025-08-20T03:56:30.697802Z"
    }
   },
   "outputs": [],
   "source": [
    "# # (Optional) Save token to env variable\n",
    "# !echo \"DELTAKIT_TOKEN=<token>\" > ~/.config/deltakit-explorer/.env"
   ]
  },
  {
   "cell_type": "code",
   "execution_count": 11,
   "id": "2c7b1191-926e-4408-888e-b6a26a86e0e4",
   "metadata": {
    "execution": {
     "iopub.execute_input": "2025-08-20T03:56:30.699316Z",
     "iopub.status.busy": "2025-08-20T03:56:30.699244Z",
     "iopub.status.idle": "2025-08-20T03:56:31.494549Z",
     "shell.execute_reply": "2025-08-20T03:56:31.494287Z",
     "shell.execute_reply.started": "2025-08-20T03:56:30.699309Z"
    }
   },
   "outputs": [],
   "source": [
    "# Create a client instance to connect\n",
    "# Go to https://deltakit.riverlane.com/dashboard/token to copy your token\n",
    "Client.set_token(\"<paste your token here>\")"
   ]
  },
  {
   "cell_type": "code",
   "execution_count": 12,
   "id": "acf1c7a7-60ac-4a65-8327-df4dcfdbf783",
   "metadata": {
    "execution": {
     "iopub.execute_input": "2025-08-20T03:56:31.494864Z",
     "iopub.status.busy": "2025-08-20T03:56:31.494789Z",
     "iopub.status.idle": "2025-08-20T03:56:31.776663Z",
     "shell.execute_reply": "2025-08-20T03:56:31.776325Z",
     "shell.execute_reply.started": "2025-08-20T03:56:31.494856Z"
    }
   },
   "outputs": [],
   "source": [
    "# Simulate circuit and get detectors and observables\n",
    "client = Client.get_instance()\n",
    "circuit = str(noisy_circ.as_stim_circuit())\n",
    "measurements, _ = client.simulate_stim_circuit(circuit, int(1e5))\n",
    "detectors, observables = measurements.to_detectors_and_observables(circuit)"
   ]
  },
  {
   "cell_type": "code",
   "execution_count": 13,
   "id": "488bd290-f093-4d6e-98fc-b736dc27c684",
   "metadata": {
    "execution": {
     "iopub.execute_input": "2025-08-20T03:56:31.776989Z",
     "iopub.status.busy": "2025-08-20T03:56:31.776922Z",
     "iopub.status.idle": "2025-08-20T03:57:11.408943Z",
     "shell.execute_reply": "2025-08-20T03:57:11.408651Z",
     "shell.execute_reply.started": "2025-08-20T03:56:31.776981Z"
    }
   },
   "outputs": [
    {
     "name": "stdout",
     "output_type": "stream",
     "text": [
      "Logical error rate for MWPM: 0.00396 in 1.96775 s\n",
      "Logical error rate for CC: 0.00485 in 1.10658 s\n",
      "Logical error rate for BELIEF_MATCHING: 0.00331 in 3.58778 s\n",
      "Logical error rate for BP_OSD: 0.00396 in 12.16231 s\n",
      "Logical error rate for AC: 0.00732 in 6.77652 s\n",
      "Logical error rate for LCD: 0.00408 in 1.43936 s\n"
     ]
    }
   ],
   "source": [
    "# Decode results, loop over all available cloud decoders\n",
    "results = []\n",
    "decoders = DecoderType._member_map_.items()\n",
    "for decoder_name, decoder_type in decoders:\n",
    "    result = client.decode(\n",
    "        detectors=detectors,\n",
    "        observables=observables,\n",
    "        decoder=Decoder(decoder_type),\n",
    "        noisy_stim_circuit=circuit\n",
    "    )\n",
    "    results.append(result)\n",
    "\n",
    "    # Print logical error rate (decoder fails/number of shots)\n",
    "    print(\n",
    "        f\"Logical error rate for {decoder_name}: \"\n",
    "        f\"{result.get_logical_error_probability()} in {sum(result.times):.5f} s\"\n",
    "    )"
   ]
  },
  {
   "cell_type": "markdown",
   "id": "15395058-e5ec-4518-90b4-4f0d30bea98c",
   "metadata": {},
   "source": [
    "# Simulate and decode with Sinter using Fusion Blossom, MWPF, Relay-BP and Beliefmatching"
   ]
  },
  {
   "cell_type": "markdown",
   "id": "18ff5c98-4e60-4d01-a4e2-bd96ab2bc27d",
   "metadata": {},
   "source": [
    "You can now take the Stim circuits you've created using Deltakit to other tools like `sinter` and decoders like `relay_bp`.\n",
    "Here is an example of using all decoders accessible via `sinter` and using them to decode the Stim circuit."
   ]
  },
  {
   "cell_type": "code",
   "execution_count": 14,
   "id": "3410be5f-5d03-4dd6-95e2-3ff7c466d154",
   "metadata": {
    "execution": {
     "iopub.execute_input": "2025-08-20T03:57:11.409360Z",
     "iopub.status.busy": "2025-08-20T03:57:11.409289Z",
     "iopub.status.idle": "2025-08-20T03:57:11.410944Z",
     "shell.execute_reply": "2025-08-20T03:57:11.410710Z",
     "shell.execute_reply.started": "2025-08-20T03:57:11.409353Z"
    }
   },
   "outputs": [],
   "source": [
    "# !pip install sinter fusion_blossom MWPF~=0.1.5 relay_bp beliefmatching"
   ]
  },
  {
   "cell_type": "code",
   "execution_count": 15,
   "id": "142b0e37-37a6-4402-8a92-735798d7a09b",
   "metadata": {
    "execution": {
     "iopub.execute_input": "2025-08-20T03:57:11.411275Z",
     "iopub.status.busy": "2025-08-20T03:57:11.411199Z",
     "iopub.status.idle": "2025-08-20T03:57:18.796931Z",
     "shell.execute_reply": "2025-08-20T03:57:18.796654Z",
     "shell.execute_reply.started": "2025-08-20T03:57:11.411267Z"
    }
   },
   "outputs": [
    {
     "name": "stdout",
     "output_type": "stream",
     "text": [
      "Logical error rate for vacuous: 0.05004\n",
      "Logical error rate for pymatching: 0.00381\n",
      "Logical error rate for fusion_blossom: 0.00422\n",
      "Logical error rate for hypergraph_union_find: 0.0033\n",
      "Logical error rate for mw_parity_factor: 0.00266\n",
      "Logical error rate for relay-bp: 0.00854\n",
      "Logical error rate for mem-bp: 0.0039\n",
      "Logical error rate for msl-bp: 0.00429\n"
     ]
    }
   ],
   "source": [
    "import sinter\n",
    "from relay_bp.stim import sinter_decoders\n",
    "\n",
    "num_workers = 1\n",
    "shots = int(1e5)\n",
    "circuit = noisy_circ.as_stim_circuit()\n",
    "\n",
    "decoders = sinter_decoders(\n",
    "    gamma0=0.1,\n",
    "    pre_iter=80,\n",
    "    num_sets=60,\n",
    "    set_max_iter=60,\n",
    "    gamma_dist_interval=(-0.24, 0.66),\n",
    "    stop_nconv=1,\n",
    ")\n",
    "\n",
    "all_decoders = list(sinter.BUILT_IN_DECODERS.keys()) + list(decoders.keys())\n",
    "tasks = []\n",
    "for decoder in all_decoders:\n",
    "    task = sinter.Task(\n",
    "        circuit=circuit,\n",
    "        decoder=decoder,\n",
    "        collection_options=sinter.CollectionOptions(max_shots=shots)\n",
    "    )\n",
    "    tasks.append(task)\n",
    "    \n",
    "# Collect the samples\n",
    "samples = sinter.collect(\n",
    "    tasks=tasks,\n",
    "    num_workers=num_workers,\n",
    "    custom_decoders=decoders,\n",
    ")\n",
    "\n",
    "for decoder, task_output in zip(all_decoders, samples):\n",
    "    print(f\"Logical error rate for {decoder}: {task_output.errors/task_output.shots}\")"
   ]
  },
  {
   "cell_type": "code",
   "execution_count": null,
   "id": "5dd6a87f-0d6f-4769-b770-9bcd1bc06bc8",
   "metadata": {},
   "outputs": [],
   "source": []
  }
 ],
 "metadata": {
  "kernelspec": {
   "display_name": "Python 3 (ipykernel)",
   "language": "python",
   "name": "python3"
  },
  "language_info": {
   "codemirror_mode": {
    "name": "ipython",
    "version": 3
   },
   "file_extension": ".py",
   "mimetype": "text/x-python",
   "name": "python",
   "nbconvert_exporter": "python",
   "pygments_lexer": "ipython3",
   "version": "3.12.11"
  }
 },
 "nbformat": 4,
 "nbformat_minor": 5
}
