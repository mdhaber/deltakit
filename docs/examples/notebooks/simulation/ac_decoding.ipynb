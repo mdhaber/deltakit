{
 "cells": [
  {
   "cell_type": "markdown",
   "id": "bcb05132-08f4-416c-976d-b1e4330e603b",
   "metadata": {},
   "source": [
    "# Decoding with Ambiguity Clustering\n",
    "\n",
    "In this notebook, we demonstrate decoding with Riverlane's proprietary decoder: the [Ambiguity Clustering (AC) decoder](https://www.nature.com/articles/s41586-024-07107-7). In particular, we\n",
    "\n",
    "* generate a circuit for a surface code quantum memory experiment, define a noise model, and generate measurement and detector data from the circuit with the noise model applied;\n",
    "* decode the detector data with both AC and Pymatching (MWPM), and show that AC can achieve a better logical error probability;\n",
    "* generate a stim circuit implementation of IBM's 72-qubit bivariate bicycle code to generate measurement and detector data;\n",
    "* decode this data with both AC and BP-OSD to show that AC can decode much faster whilst maintaining a similar logical error probability."
   ]
  },
  {
   "cell_type": "markdown",
   "id": "681386db-1f5b-4779-a667-dc6c59767c9e",
   "metadata": {},
   "source": [
    "## Introduction\n",
    "\n",
    "Ambiguity Clustering (AC) is a prototype decoding algorithm for general qLDPC codes being developed by Riverlane. The purpose of this notebook is to demonstrate the decoder's capability decoding a surface code, benchmarking its performance against the [minimum weight perfect matching](https://arxiv.org/pdf/2105.13082) (MWPM) decoder. Then, we look at its performance on a qLDPC code ([IBM's 72-qubit bivariate bicycle code](https://arxiv.org/pdf/2308.07915)), and compare its performance with the [BP-OSD](https://github.com/quantumgizmos/bp_osd) decoder.\n",
    "\n",
    "Unlike 'matching' decoders such as MWPM (e.g. Pymatching), which operate on decoding *graphs* (that is, each error mechanism must trigger at most two checks), Ambiguity Clustering operates on a more general structure, the decoding *hypergraph* - or in other words, any Stim detector error model (DEM). This makes it suitable for decoding any QEC code for which a detector error model can be generated, including qLDPC codes.\n",
    "\n",
    "Even for the surface code, whose DEM can be well-approximated as a decoding graph so that we can run MWPM on it, AC can still potentially provide a logical fidelity gain over matching decoders, as by considering the full hypergraph it is able to 'see' correlations between Pauli X and Pauli Z errors occurring on qubits, to which MWPM is blind (unless you use a correlated matching technique). We demonstrate this accuracy gain here for a distance-7 surface code memory experiment.\n",
    "\n",
    "We then generate a stim circuit of IBM's 72-qubit bivariate bicycle code using the Deltakit API, and then decode with AC, demonstrating AC's superior speed with comparable accuracy to BP-OSD.\n",
    "\n",
    "### How it works\n",
    "\n",
    "AC is a two phase algorithm. First, like BP-OSD, it runs the belief propagation graphical inference algorithm on the decoding Tanner graph to get an approximate probability of occurrence for every error mechanism. Secondly, it applies a series of linear algebra operations to the parity check matrix to identify connected clusters of syndrome bits in the Tanner graph. It can then search over solutions to these clusters individually to find the most likely solutions to the syndrome."
   ]
  },
  {
   "cell_type": "markdown",
   "id": "38bd8016-4bc7-47c6-9f62-d45b614cdeaf",
   "metadata": {},
   "source": [
    "## Preparation\n",
    "### Perform all necessary imports"
   ]
  },
  {
   "cell_type": "code",
   "execution_count": 1,
   "id": "9fedef95-7ede-43ff-a59a-757189407949",
   "metadata": {},
   "outputs": [],
   "source": [
    "# Import prerequisites\n",
    "from __future__ import annotations\n",
    "\n",
    "from pathlib import Path\n",
    "\n",
    "import matplotlib.pyplot as plt\n",
    "import stim\n",
    "from deltakit.explorer import Client\n",
    "from deltakit.explorer.enums import DecoderType\n",
    "from deltakit.explorer.types import Decoder, PhysicalNoiseModel, QECExperimentDefinition"
   ]
  },
  {
   "cell_type": "code",
   "execution_count": 2,
   "id": "cf6f6709-d163-4bb4-89ff-1bfacac77b29",
   "metadata": {},
   "outputs": [],
   "source": [
    "Client.set_token('8RmM5v8pUDPCew9SijMYQbXpYK5SHX2l')\n",
    "client = Client.get_instance()\n",
    "example_circuits_folder = Path(\"../..\") / \"data/examples/qldpc\""
   ]
  },
  {
   "cell_type": "markdown",
   "id": "969653ba-6e01-4a2f-bc4c-01d1c551f740",
   "metadata": {},
   "source": [
    "## Generate Surface Code Data\n",
    "We generate data for rotated planar codes of distances 3, 5, 7, with the number of rounds of syndrome extraction matching the distance. We use a circuit-level noise model with p=0.5% for all the noise parameters. Gate times, T1 and T2 times allow to compute idleness durations and apply realistic idleness noise. For more details see the {ref}`client-add-noise-to-the-circuit` example."
   ]
  },
  {
   "cell_type": "code",
   "execution_count": 3,
   "id": "86701a94-05f6-4eba-9202-a81faa89cc8c",
   "metadata": {},
   "outputs": [],
   "source": [
    "from deltakit.circuit.gates import PauliBasis, CZ, H, MZ, RZ\n",
    "from deltakit.explorer.codes import RotatedPlanarCode, css_code_memory_circuit\n",
    "from deltakit.explorer.qpu import QPU, NativeGateSet, PhysicalNoise\n",
    "from deltakit_explorer.simulation import simulate_with_stim\n",
    "\n",
    "# How many shots to run\n",
    "num_shots = 10000\n",
    "distances = [3, 5, 7]\n",
    "\n",
    "# Define p = 0.5% noise model\n",
    "noise_model = PhysicalNoise(\n",
    "    t_1=50e-6,\n",
    "    t_2=50e-6,\n",
    "    p_1_qubit_gate_error=0.002,\n",
    "    p_2_qubit_gate_error=0.002,\n",
    "    p_reset_error=0.002,\n",
    "    p_meas_qubit_error=0.002,\n",
    "    p_readout_flip=0.002\n",
    ")\n",
    "\n",
    "native_gates = NativeGateSet(\n",
    "    one_qubit_gates=[H],\n",
    "    two_qubit_gates=[CZ],\n",
    "    measurement_gates=[MZ],\n",
    "    reset_gates=[RZ]\n",
    ")\n",
    "\n",
    "# `from_times` was written as a method of NativeGateSetAndTimes\n",
    "# NativeGateSet inherits it, apparently\n",
    "# Maybe it should have been `add_times` and it is invoked on a `NativeGateSet`, \n",
    "# possibly an `ExhaustiveGateSet` if specific gates aren't to be specified\n",
    "native_gates_times = NativeGateSet.from_times(\n",
    "    time_1_qubit_gate=50e-9,\n",
    "    time_2_qubit_gate=100e-9,\n",
    "    time_measurement=500e-9,\n",
    "    time_reset=500e-9,\n",
    "    native_gates=native_gates\n",
    ")\n",
    "\n",
    "# Generate noiseless circuits\n",
    "compiled_circuits = []\n",
    "measurements_files = []\n",
    "for distance in distances:\n",
    "    code = RotatedPlanarCode(distance, distance)\n",
    "    # is num_rounds=distance right?\n",
    "    ideal_circuit = css_code_memory_circuit(code, num_rounds=distance, logical_basis=PauliBasis.Z)\n",
    "    # can I make qubits an optional argument of QPU? We're always passing the circuit's qubits\n",
    "    qpu = QPU(ideal_circuit.qubits, native_gates_and_times=native_gates_times, noise_model=noise_model)\n",
    "    compiled_circuit = qpu.compile_and_add_noise_to_circuit(ideal_circuit)\n",
    "    compiled_circuits.append(compiled_circuit)\n",
    "    \n",
    "    # Simulate noisy circuit to generate measurement data\n",
    "    measurements, _ = simulate_with_stim(\n",
    "        stim_circuit=compiled_circuit.as_stim_circuit(),  # shouldn't require conversion to `stim`\n",
    "        shots=num_shots\n",
    "    )\n",
    "    measurements_files.append(measurements)"
   ]
  },
  {
   "cell_type": "markdown",
   "id": "1409bea3-bcb3-4505-8ce8-de59810f6415",
   "metadata": {},
   "source": [
    "## Decoding the surface code data with MWPM"
   ]
  },
  {
   "cell_type": "code",
   "execution_count": 4,
   "id": "3d286e9e-78fa-4444-a461-bb73a5641066",
   "metadata": {},
   "outputs": [],
   "source": [
    "import numpy as np\n",
    "from deltakit.explorer.analysis import calculate_lep_and_lep_stddev\n",
    "from deltakit.decode import MWPMDecoder\n",
    "\n",
    "mwpm_errors = []\n",
    "mwpm_error_bars = []\n",
    "\n",
    "# Loop through the circuits and perform MWPM decoding on each\n",
    "for compiled_circuit, measurements in zip(compiled_circuits, measurements_files):\n",
    "    detection_events, logical_flips = measurements.to_detectors_and_observables(compiled_circuit.as_stim_circuit())\n",
    "    decoder = MWPMDecoder(compiled_circuit, client=client)\n",
    "    predicted_flips = decoder.decode_batch_to_logical_flip(detection_events.as_numpy(), parallel_jobs=8)\n",
    "    shots = predicted_flips.size\n",
    "    fails = np.count_nonzero(logical_flips.as_numpy() != predicted_flips)\n",
    "    lep, std_deviation = calculate_lep_and_lep_stddev(fails, shots)\n",
    "    mwpm_errors.append(lep)\n",
    "    mwpm_error_bars.append(std_deviation)"
   ]
  },
  {
   "cell_type": "markdown",
   "id": "57ff0d86-434d-4a9b-8d7d-90835fb1e382",
   "metadata": {},
   "source": [
    "## Decoding the surface code data with AC\n",
    "We see that although AC takes longer to decode per shot than MWPM, it can achieve a lower logical error probability (note there is significant variance per run). This is because it operates on the whole, undecomposed, detector error model, and so can 'see' correlations between X and Z errors."
   ]
  },
  {
   "cell_type": "code",
   "execution_count": 5,
   "id": "43cec93a-a165-4e7f-8c33-af1487920f00",
   "metadata": {},
   "outputs": [],
   "source": [
    "from deltakit.decode import ACDecoder\n",
    "\n",
    "ac_errors, ac_error_bars = [], []\n",
    "kappa = 0.02\n",
    "# Loop through the circuits and perform AC decoding on each\n",
    "for distance, compiled_circuit, measurements in zip(distances, compiled_circuits, measurements_files):\n",
    "    detection_events, logical_flips = measurements.to_detectors_and_observables(compiled_circuit.as_stim_circuit())\n",
    "    parameters = {\n",
    "        \"decompose_errors\": False,\n",
    "        \"bp_rounds\": distance,\n",
    "        \"ac_kappa_proportion\": kappa,\n",
    "    }\n",
    "    decoder = ACDecoder(compiled_circuit, parameters=parameters, client=client)\n",
    "    predicted_flips = decoder.decode_batch_to_logical_flip(detection_events.as_numpy(), parallel_jobs=8)\n",
    "    shots = predicted_flips.size\n",
    "    fails = np.count_nonzero(logical_flips.as_numpy() != predicted_flips)\n",
    "    lep, std_deviation = calculate_lep_and_lep_stddev(fails, shots)\n",
    "    ac_errors.append(lep)\n",
    "    ac_error_bars.append(std_deviation)"
   ]
  },
  {
   "cell_type": "code",
   "execution_count": 6,
   "id": "f60f06d0-80e7-417b-91b0-8449b22ab95e",
   "metadata": {},
   "outputs": [
    {
     "data": {
      "text/plain": [
       "<matplotlib.legend.Legend at 0x302c6cad0>"
      ]
     },
     "execution_count": 6,
     "metadata": {},
     "output_type": "execute_result"
    },
    {
     "data": {
      "image/png": "[encoded data removed]",
      "text/plain": [
       "<Figure size 640x480 with 1 Axes>"
      ]
     },
     "metadata": {},
     "output_type": "display_data"
    }
   ],
   "source": [
    "plt.errorbar(distances, mwpm_errors, yerr = mwpm_error_bars, color=\"#00968f\", capsize = 3, label = \"MWPM\", fmt = 's')\n",
    "plt.errorbar(distances, ac_errors, yerr = ac_error_bars, color=\"#ff7500\", capsize = 3, label = \"Ambiguity Clustering\", fmt = 'd')\n",
    "plt.grid(color=\"gray\", linestyle=\":\", linewidth=1)\n",
    "plt.xticks(distances)\n",
    "plt.xlabel(\"Code distance\")\n",
    "plt.ylabel(\"Logical error probability\")\n",
    "plt.yscale('log')\n",
    "plt.legend()"
   ]
  },
  {
   "cell_type": "markdown",
   "id": "6b26bebb",
   "metadata": {},
   "source": [
    "## Decoding qLDPC codes\n",
    "Quantum low-density parity check (qLDPC) codes are the current leading family of error correcting codes. These codes allow for the possibility of fault-tolerant quantum computation with lower overheads (fewer physical qubits needed per encoded logical qubit) compared to conventional codes, such as the surface code.\n",
    "\n",
    "We will deal with one such qLDPC code, IBM's 72-qubit bivariate bicycle code, which makes use of 72 physical qubits to encode 12 logical qubits, and has a distance of 6. This gives it code parameters [[72, 12, 6]]. "
   ]
  },
  {
   "cell_type": "markdown",
   "id": "eadb3211-40b4-4217-9721-8dd40cad64a3",
   "metadata": {},
   "source": [
    "### Read-in circuit\n",
    "Here we use a Stim circuit implementing the 72-qubit code at a 0.5% physical error rate (generated using a script from [Gong et al.](https://arxiv.org/pdf/2403.18901); repo [here](https://github.com/gongaa/SlidingWindowDecoder)). The noise model is a realistic noise model for superconducting qubits. Parameters are listed below."
   ]
  },
  {
   "cell_type": "code",
   "execution_count": 19,
   "id": "ada5a8a8",
   "metadata": {},
   "outputs": [],
   "source": [
    "from deltakit.explorer.codes import BivariateBicycleCode\n",
    "from deltakit.explorer.qpu import SI1000Noise\n",
    "\n",
    "# Code parameters, for naming files\n",
    "code_name = \"[[72,12,6]]\"\n",
    "param_l = 6\n",
    "param_m = 6\n",
    "m_A_powers = [3, 1, 2]\n",
    "m_B_powers = [3, 1, 2]\n",
    "code = BivariateBicycleCode(param_l, param_m, m_A_powers, m_B_powers, validate=True)\n",
    "\n",
    "# This is not the same superconducting noise model; that one can easily be implemented\n",
    "# using `PhysicalNoise`\n",
    "noise_model = SI1000Noise(p=0.005)\n",
    "\n",
    "# generate, compile, and add noise to circuit\n",
    "# IIRC the circuit in the file has unnecessary elements stripped away, \n",
    "# making it smaller and easier to decode? Can we do that with `deltakit`?\n",
    "ideal_circuit = css_code_memory_circuit(code, num_rounds=distance, logical_basis=PauliBasis.Z)\n",
    "qpu = QPU(ideal_circuit.qubits, native_gates_and_times=native_gates_times, noise_model=noise_model)\n",
    "noisy_circuit = qpu.compile_and_add_noise_to_circuit(ideal_circuit)"
   ]
  },
  {
   "cell_type": "markdown",
   "id": "f78f30c1-4d02-4f38-b6a8-e6a5e35d63ba",
   "metadata": {},
   "source": [
    "### Simulate measurements, generate detectors and observables"
   ]
  },
  {
   "cell_type": "code",
   "execution_count": 20,
   "id": "b776606c-6081-4108-b285-6062669eb366",
   "metadata": {},
   "outputs": [],
   "source": [
    "num_shots = 1000\n",
    "\n",
    "# Simulate noisy circuit to generate measurement data\n",
    "measurements, _ = simulate_with_stim(\n",
    "    stim_circuit=noisy_circuit,\n",
    "    shots=num_shots,\n",
    "    client=client,\n",
    ")\n",
    "\n",
    "# Convert the measurement data to detectors and observables\n",
    "detection_events, logical_flips = measurements.to_detectors_and_observables(\n",
    "    stim_circuit=noisy_circuit.as_stim_circuit(),\n",
    ")"
   ]
  },
  {
   "cell_type": "markdown",
   "id": "c99d24a5-2d98-483c-bc51-1ee9670ebae4",
   "metadata": {},
   "source": [
    "### Decode with AC and BP-OSD\n",
    "\n",
    "Here we demonstrate decoding of IBM's 72 qubit bivariate bicycle code with AC, and, for comparison, with BP-OSD.\n",
    "These BP parameters for the two algorithms are empirically found to work well. Since BP-OSD has a much heavier post-processing step than AC, it makes sense that the algorithm benefits from more rounds of BP.\n",
    "\n",
    "In our example, we demonstrate AC's superior decoding time compared to BP_OSD, whilst maintaining a comparable logical error rate."
   ]
  },
  {
   "cell_type": "code",
   "execution_count": 21,
   "id": "57ceb239-6f0a-4c73-b412-4037276c3b6a",
   "metadata": {},
   "outputs": [],
   "source": [
    "from deltakit.decode import BPOSDecoder\n",
    "\n",
    "parameters={\"decompose_errors\": False, \"bp_rounds\": 99, \"ac_kappa_proportion\": 0.02}\n",
    "decoder_ac = ACDecoder(noisy_circuit, parameters=parameters, client=client)\n",
    "\n",
    "parameters={\"decompose_errors\": False, \"max_bp_rounds\": 10_000, \"combination_sweep_order\": 0}\n",
    "decoder_bpos = BPOSDecoder(noisy_circuit, parameters=parameters, client=client)\n",
    "\n",
    "decoders = [decoder_ac, decoder_bpos]"
   ]
  },
  {
   "cell_type": "code",
   "execution_count": 22,
   "id": "0c043cc5-4149-41e7-9a81-88ca91ae561f",
   "metadata": {},
   "outputs": [
    {
     "name": "stdout",
     "output_type": "stream",
     "text": [
      "Decoding [[72,12,6]] code with ACDecoder.\n",
      "Decoding [[72,12,6]] code with BPOSDecoder.\n"
     ]
    },
    {
     "name": "stderr",
     "output_type": "stream",
     "text": [
      "[2025-09-11 22:25:25,318.318][deltakit-explorer][ERROR] decode: ('Connection aborted.', ConnectionResetError(54, 'Connection reset by peer')) | reqid=[db9d26b672c94e6e99ff19801b8bf2ff]\n"
     ]
    },
    {
     "ename": "ConnectionError",
     "evalue": "('Connection aborted.', ConnectionResetError(54, 'Connection reset by peer'))",
     "output_type": "error",
     "traceback": [
      "\u001b[31m---------------------------------------------------------------------------\u001b[39m",
      "\u001b[31mConnectionResetError\u001b[39m                      Traceback (most recent call last)",
      "\u001b[36mFile \u001b[39m\u001b[32m~/Desktop/deltakit-oss/.pixi/envs/default/lib/python3.13/site-packages/urllib3/connectionpool.py:787\u001b[39m, in \u001b[36mHTTPConnectionPool.urlopen\u001b[39m\u001b[34m(self, method, url, body, headers, retries, redirect, assert_same_host, timeout, pool_timeout, release_conn, chunked, body_pos, preload_content, decode_content, **response_kw)\u001b[39m\n\u001b[32m    786\u001b[39m \u001b[38;5;66;03m# Make the request on the HTTPConnection object\u001b[39;00m\n\u001b[32m--> \u001b[39m\u001b[32m787\u001b[39m response = \u001b[38;5;28;43mself\u001b[39;49m\u001b[43m.\u001b[49m\u001b[43m_make_request\u001b[49m\u001b[43m(\u001b[49m\n\u001b[32m    788\u001b[39m \u001b[43m    \u001b[49m\u001b[43mconn\u001b[49m\u001b[43m,\u001b[49m\n\u001b[32m    789\u001b[39m \u001b[43m    \u001b[49m\u001b[43mmethod\u001b[49m\u001b[43m,\u001b[49m\n\u001b[32m    790\u001b[39m \u001b[43m    \u001b[49m\u001b[43murl\u001b[49m\u001b[43m,\u001b[49m\n\u001b[32m    791\u001b[39m \u001b[43m    \u001b[49m\u001b[43mtimeout\u001b[49m\u001b[43m=\u001b[49m\u001b[43mtimeout_obj\u001b[49m\u001b[43m,\u001b[49m\n\u001b[32m    792\u001b[39m \u001b[43m    \u001b[49m\u001b[43mbody\u001b[49m\u001b[43m=\u001b[49m\u001b[43mbody\u001b[49m\u001b[43m,\u001b[49m\n\u001b[32m    793\u001b[39m \u001b[43m    \u001b[49m\u001b[43mheaders\u001b[49m\u001b[43m=\u001b[49m\u001b[43mheaders\u001b[49m\u001b[43m,\u001b[49m\n\u001b[32m    794\u001b[39m \u001b[43m    \u001b[49m\u001b[43mchunked\u001b[49m\u001b[43m=\u001b[49m\u001b[43mchunked\u001b[49m\u001b[43m,\u001b[49m\n\u001b[32m    795\u001b[39m \u001b[43m    \u001b[49m\u001b[43mretries\u001b[49m\u001b[43m=\u001b[49m\u001b[43mretries\u001b[49m\u001b[43m,\u001b[49m\n\u001b[32m    796\u001b[39m \u001b[43m    \u001b[49m\u001b[43mresponse_conn\u001b[49m\u001b[43m=\u001b[49m\u001b[43mresponse_conn\u001b[49m\u001b[43m,\u001b[49m\n\u001b[32m    797\u001b[39m \u001b[43m    \u001b[49m\u001b[43mpreload_content\u001b[49m\u001b[43m=\u001b[49m\u001b[43mpreload_content\u001b[49m\u001b[43m,\u001b[49m\n\u001b[32m    798\u001b[39m \u001b[43m    \u001b[49m\u001b[43mdecode_content\u001b[49m\u001b[43m=\u001b[49m\u001b[43mdecode_content\u001b[49m\u001b[43m,\u001b[49m\n\u001b[32m    799\u001b[39m \u001b[43m    \u001b[49m\u001b[43m*\u001b[49m\u001b[43m*\u001b[49m\u001b[43mresponse_kw\u001b[49m\u001b[43m,\u001b[49m\n\u001b[32m    800\u001b[39m \u001b[43m\u001b[49m\u001b[43m)\u001b[49m\n\u001b[32m    802\u001b[39m \u001b[38;5;66;03m# Everything went great!\u001b[39;00m\n",
      "\u001b[36mFile \u001b[39m\u001b[32m~/Desktop/deltakit-oss/.pixi/envs/default/lib/python3.13/site-packages/urllib3/connectionpool.py:534\u001b[39m, in \u001b[36mHTTPConnectionPool._make_request\u001b[39m\u001b[34m(self, conn, method, url, body, headers, retries, timeout, chunked, response_conn, preload_content, decode_content, enforce_content_length)\u001b[39m\n\u001b[32m    533\u001b[39m \u001b[38;5;28;01mtry\u001b[39;00m:\n\u001b[32m--> \u001b[39m\u001b[32m534\u001b[39m     response = \u001b[43mconn\u001b[49m\u001b[43m.\u001b[49m\u001b[43mgetresponse\u001b[49m\u001b[43m(\u001b[49m\u001b[43m)\u001b[49m\n\u001b[32m    535\u001b[39m \u001b[38;5;28;01mexcept\u001b[39;00m (BaseSSLError, \u001b[38;5;167;01mOSError\u001b[39;00m) \u001b[38;5;28;01mas\u001b[39;00m e:\n",
      "\u001b[36mFile \u001b[39m\u001b[32m~/Desktop/deltakit-oss/.pixi/envs/default/lib/python3.13/site-packages/urllib3/connection.py:565\u001b[39m, in \u001b[36mHTTPConnection.getresponse\u001b[39m\u001b[34m(self)\u001b[39m\n\u001b[32m    564\u001b[39m \u001b[38;5;66;03m# Get the response from http.client.HTTPConnection\u001b[39;00m\n\u001b[32m--> \u001b[39m\u001b[32m565\u001b[39m httplib_response = \u001b[38;5;28;43msuper\u001b[39;49m\u001b[43m(\u001b[49m\u001b[43m)\u001b[49m\u001b[43m.\u001b[49m\u001b[43mgetresponse\u001b[49m\u001b[43m(\u001b[49m\u001b[43m)\u001b[49m\n\u001b[32m    567\u001b[39m \u001b[38;5;28;01mtry\u001b[39;00m:\n",
      "\u001b[36mFile \u001b[39m\u001b[32m~/Desktop/deltakit-oss/.pixi/envs/default/lib/python3.13/http/client.py:1430\u001b[39m, in \u001b[36mHTTPConnection.getresponse\u001b[39m\u001b[34m(self)\u001b[39m\n\u001b[32m   1429\u001b[39m \u001b[38;5;28;01mtry\u001b[39;00m:\n\u001b[32m-> \u001b[39m\u001b[32m1430\u001b[39m     \u001b[43mresponse\u001b[49m\u001b[43m.\u001b[49m\u001b[43mbegin\u001b[49m\u001b[43m(\u001b[49m\u001b[43m)\u001b[49m\n\u001b[32m   1431\u001b[39m \u001b[38;5;28;01mexcept\u001b[39;00m \u001b[38;5;167;01mConnectionError\u001b[39;00m:\n",
      "\u001b[36mFile \u001b[39m\u001b[32m~/Desktop/deltakit-oss/.pixi/envs/default/lib/python3.13/http/client.py:331\u001b[39m, in \u001b[36mHTTPResponse.begin\u001b[39m\u001b[34m(self)\u001b[39m\n\u001b[32m    330\u001b[39m \u001b[38;5;28;01mwhile\u001b[39;00m \u001b[38;5;28;01mTrue\u001b[39;00m:\n\u001b[32m--> \u001b[39m\u001b[32m331\u001b[39m     version, status, reason = \u001b[38;5;28;43mself\u001b[39;49m\u001b[43m.\u001b[49m\u001b[43m_read_status\u001b[49m\u001b[43m(\u001b[49m\u001b[43m)\u001b[49m\n\u001b[32m    332\u001b[39m     \u001b[38;5;28;01mif\u001b[39;00m status != CONTINUE:\n",
      "\u001b[36mFile \u001b[39m\u001b[32m~/Desktop/deltakit-oss/.pixi/envs/default/lib/python3.13/http/client.py:292\u001b[39m, in \u001b[36mHTTPResponse._read_status\u001b[39m\u001b[34m(self)\u001b[39m\n\u001b[32m    291\u001b[39m \u001b[38;5;28;01mdef\u001b[39;00m\u001b[38;5;250m \u001b[39m\u001b[34m_read_status\u001b[39m(\u001b[38;5;28mself\u001b[39m):\n\u001b[32m--> \u001b[39m\u001b[32m292\u001b[39m     line = \u001b[38;5;28mstr\u001b[39m(\u001b[38;5;28;43mself\u001b[39;49m\u001b[43m.\u001b[49m\u001b[43mfp\u001b[49m\u001b[43m.\u001b[49m\u001b[43mreadline\u001b[49m\u001b[43m(\u001b[49m\u001b[43m_MAXLINE\u001b[49m\u001b[43m \u001b[49m\u001b[43m+\u001b[49m\u001b[43m \u001b[49m\u001b[32;43m1\u001b[39;49m\u001b[43m)\u001b[49m, \u001b[33m\"\u001b[39m\u001b[33miso-8859-1\u001b[39m\u001b[33m\"\u001b[39m)\n\u001b[32m    293\u001b[39m     \u001b[38;5;28;01mif\u001b[39;00m \u001b[38;5;28mlen\u001b[39m(line) > _MAXLINE:\n",
      "\u001b[36mFile \u001b[39m\u001b[32m~/Desktop/deltakit-oss/.pixi/envs/default/lib/python3.13/socket.py:719\u001b[39m, in \u001b[36mSocketIO.readinto\u001b[39m\u001b[34m(self, b)\u001b[39m\n\u001b[32m    718\u001b[39m \u001b[38;5;28;01mtry\u001b[39;00m:\n\u001b[32m--> \u001b[39m\u001b[32m719\u001b[39m     \u001b[38;5;28;01mreturn\u001b[39;00m \u001b[38;5;28;43mself\u001b[39;49m\u001b[43m.\u001b[49m\u001b[43m_sock\u001b[49m\u001b[43m.\u001b[49m\u001b[43mrecv_into\u001b[49m\u001b[43m(\u001b[49m\u001b[43mb\u001b[49m\u001b[43m)\u001b[49m\n\u001b[32m    720\u001b[39m \u001b[38;5;28;01mexcept\u001b[39;00m timeout:\n",
      "\u001b[36mFile \u001b[39m\u001b[32m~/Desktop/deltakit-oss/.pixi/envs/default/lib/python3.13/ssl.py:1304\u001b[39m, in \u001b[36mSSLSocket.recv_into\u001b[39m\u001b[34m(self, buffer, nbytes, flags)\u001b[39m\n\u001b[32m   1301\u001b[39m         \u001b[38;5;28;01mraise\u001b[39;00m \u001b[38;5;167;01mValueError\u001b[39;00m(\n\u001b[32m   1302\u001b[39m           \u001b[33m\"\u001b[39m\u001b[33mnon-zero flags not allowed in calls to recv_into() on \u001b[39m\u001b[38;5;132;01m%s\u001b[39;00m\u001b[33m\"\u001b[39m %\n\u001b[32m   1303\u001b[39m           \u001b[38;5;28mself\u001b[39m.\u001b[34m__class__\u001b[39m)\n\u001b[32m-> \u001b[39m\u001b[32m1304\u001b[39m     \u001b[38;5;28;01mreturn\u001b[39;00m \u001b[38;5;28;43mself\u001b[39;49m\u001b[43m.\u001b[49m\u001b[43mread\u001b[49m\u001b[43m(\u001b[49m\u001b[43mnbytes\u001b[49m\u001b[43m,\u001b[49m\u001b[43m \u001b[49m\u001b[43mbuffer\u001b[49m\u001b[43m)\u001b[49m\n\u001b[32m   1305\u001b[39m \u001b[38;5;28;01melse\u001b[39;00m:\n",
      "\u001b[36mFile \u001b[39m\u001b[32m~/Desktop/deltakit-oss/.pixi/envs/default/lib/python3.13/ssl.py:1138\u001b[39m, in \u001b[36mSSLSocket.read\u001b[39m\u001b[34m(self, len, buffer)\u001b[39m\n\u001b[32m   1137\u001b[39m \u001b[38;5;28;01mif\u001b[39;00m buffer \u001b[38;5;129;01mis\u001b[39;00m \u001b[38;5;129;01mnot\u001b[39;00m \u001b[38;5;28;01mNone\u001b[39;00m:\n\u001b[32m-> \u001b[39m\u001b[32m1138\u001b[39m     \u001b[38;5;28;01mreturn\u001b[39;00m \u001b[38;5;28;43mself\u001b[39;49m\u001b[43m.\u001b[49m\u001b[43m_sslobj\u001b[49m\u001b[43m.\u001b[49m\u001b[43mread\u001b[49m\u001b[43m(\u001b[49m\u001b[38;5;28;43mlen\u001b[39;49m\u001b[43m,\u001b[49m\u001b[43m \u001b[49m\u001b[43mbuffer\u001b[49m\u001b[43m)\u001b[49m\n\u001b[32m   1139\u001b[39m \u001b[38;5;28;01melse\u001b[39;00m:\n",
      "\u001b[31mConnectionResetError\u001b[39m: [Errno 54] Connection reset by peer",
      "\nDuring handling of the above exception, another exception occurred:\n",
      "\u001b[31mProtocolError\u001b[39m                             Traceback (most recent call last)",
      "\u001b[36mFile \u001b[39m\u001b[32m~/Desktop/deltakit-oss/.pixi/envs/default/lib/python3.13/site-packages/requests/adapters.py:667\u001b[39m, in \u001b[36mHTTPAdapter.send\u001b[39m\u001b[34m(self, request, stream, timeout, verify, cert, proxies)\u001b[39m\n\u001b[32m    666\u001b[39m \u001b[38;5;28;01mtry\u001b[39;00m:\n\u001b[32m--> \u001b[39m\u001b[32m667\u001b[39m     resp = \u001b[43mconn\u001b[49m\u001b[43m.\u001b[49m\u001b[43murlopen\u001b[49m\u001b[43m(\u001b[49m\n\u001b[32m    668\u001b[39m \u001b[43m        \u001b[49m\u001b[43mmethod\u001b[49m\u001b[43m=\u001b[49m\u001b[43mrequest\u001b[49m\u001b[43m.\u001b[49m\u001b[43mmethod\u001b[49m\u001b[43m,\u001b[49m\n\u001b[32m    669\u001b[39m \u001b[43m        \u001b[49m\u001b[43murl\u001b[49m\u001b[43m=\u001b[49m\u001b[43murl\u001b[49m\u001b[43m,\u001b[49m\n\u001b[32m    670\u001b[39m \u001b[43m        \u001b[49m\u001b[43mbody\u001b[49m\u001b[43m=\u001b[49m\u001b[43mrequest\u001b[49m\u001b[43m.\u001b[49m\u001b[43mbody\u001b[49m\u001b[43m,\u001b[49m\n\u001b[32m    671\u001b[39m \u001b[43m        \u001b[49m\u001b[43mheaders\u001b[49m\u001b[43m=\u001b[49m\u001b[43mrequest\u001b[49m\u001b[43m.\u001b[49m\u001b[43mheaders\u001b[49m\u001b[43m,\u001b[49m\n\u001b[32m    672\u001b[39m \u001b[43m        \u001b[49m\u001b[43mredirect\u001b[49m\u001b[43m=\u001b[49m\u001b[38;5;28;43;01mFalse\u001b[39;49;00m\u001b[43m,\u001b[49m\n\u001b[32m    673\u001b[39m \u001b[43m        \u001b[49m\u001b[43massert_same_host\u001b[49m\u001b[43m=\u001b[49m\u001b[38;5;28;43;01mFalse\u001b[39;49;00m\u001b[43m,\u001b[49m\n\u001b[32m    674\u001b[39m \u001b[43m        \u001b[49m\u001b[43mpreload_content\u001b[49m\u001b[43m=\u001b[49m\u001b[38;5;28;43;01mFalse\u001b[39;49;00m\u001b[43m,\u001b[49m\n\u001b[32m    675\u001b[39m \u001b[43m        \u001b[49m\u001b[43mdecode_content\u001b[49m\u001b[43m=\u001b[49m\u001b[38;5;28;43;01mFalse\u001b[39;49;00m\u001b[43m,\u001b[49m\n\u001b[32m    676\u001b[39m \u001b[43m        \u001b[49m\u001b[43mretries\u001b[49m\u001b[43m=\u001b[49m\u001b[38;5;28;43mself\u001b[39;49m\u001b[43m.\u001b[49m\u001b[43mmax_retries\u001b[49m\u001b[43m,\u001b[49m\n\u001b[32m    677\u001b[39m \u001b[43m        \u001b[49m\u001b[43mtimeout\u001b[49m\u001b[43m=\u001b[49m\u001b[43mtimeout\u001b[49m\u001b[43m,\u001b[49m\n\u001b[32m    678\u001b[39m \u001b[43m        \u001b[49m\u001b[43mchunked\u001b[49m\u001b[43m=\u001b[49m\u001b[43mchunked\u001b[49m\u001b[43m,\u001b[49m\n\u001b[32m    679\u001b[39m \u001b[43m    \u001b[49m\u001b[43m)\u001b[49m\n\u001b[32m    681\u001b[39m \u001b[38;5;28;01mexcept\u001b[39;00m (ProtocolError, \u001b[38;5;167;01mOSError\u001b[39;00m) \u001b[38;5;28;01mas\u001b[39;00m err:\n",
      "\u001b[36mFile \u001b[39m\u001b[32m~/Desktop/deltakit-oss/.pixi/envs/default/lib/python3.13/site-packages/urllib3/connectionpool.py:841\u001b[39m, in \u001b[36mHTTPConnectionPool.urlopen\u001b[39m\u001b[34m(self, method, url, body, headers, retries, redirect, assert_same_host, timeout, pool_timeout, release_conn, chunked, body_pos, preload_content, decode_content, **response_kw)\u001b[39m\n\u001b[32m    839\u001b[39m     new_e = ProtocolError(\u001b[33m\"\u001b[39m\u001b[33mConnection aborted.\u001b[39m\u001b[33m\"\u001b[39m, new_e)\n\u001b[32m--> \u001b[39m\u001b[32m841\u001b[39m retries = \u001b[43mretries\u001b[49m\u001b[43m.\u001b[49m\u001b[43mincrement\u001b[49m\u001b[43m(\u001b[49m\n\u001b[32m    842\u001b[39m \u001b[43m    \u001b[49m\u001b[43mmethod\u001b[49m\u001b[43m,\u001b[49m\u001b[43m \u001b[49m\u001b[43murl\u001b[49m\u001b[43m,\u001b[49m\u001b[43m \u001b[49m\u001b[43merror\u001b[49m\u001b[43m=\u001b[49m\u001b[43mnew_e\u001b[49m\u001b[43m,\u001b[49m\u001b[43m \u001b[49m\u001b[43m_pool\u001b[49m\u001b[43m=\u001b[49m\u001b[38;5;28;43mself\u001b[39;49m\u001b[43m,\u001b[49m\u001b[43m \u001b[49m\u001b[43m_stacktrace\u001b[49m\u001b[43m=\u001b[49m\u001b[43msys\u001b[49m\u001b[43m.\u001b[49m\u001b[43mexc_info\u001b[49m\u001b[43m(\u001b[49m\u001b[43m)\u001b[49m\u001b[43m[\u001b[49m\u001b[32;43m2\u001b[39;49m\u001b[43m]\u001b[49m\n\u001b[32m    843\u001b[39m \u001b[43m\u001b[49m\u001b[43m)\u001b[49m\n\u001b[32m    844\u001b[39m retries.sleep()\n",
      "\u001b[36mFile \u001b[39m\u001b[32m~/Desktop/deltakit-oss/.pixi/envs/default/lib/python3.13/site-packages/urllib3/util/retry.py:474\u001b[39m, in \u001b[36mRetry.increment\u001b[39m\u001b[34m(self, method, url, response, error, _pool, _stacktrace)\u001b[39m\n\u001b[32m    473\u001b[39m \u001b[38;5;28;01mif\u001b[39;00m read \u001b[38;5;129;01mis\u001b[39;00m \u001b[38;5;28;01mFalse\u001b[39;00m \u001b[38;5;129;01mor\u001b[39;00m method \u001b[38;5;129;01mis\u001b[39;00m \u001b[38;5;28;01mNone\u001b[39;00m \u001b[38;5;129;01mor\u001b[39;00m \u001b[38;5;129;01mnot\u001b[39;00m \u001b[38;5;28mself\u001b[39m._is_method_retryable(method):\n\u001b[32m--> \u001b[39m\u001b[32m474\u001b[39m     \u001b[38;5;28;01mraise\u001b[39;00m \u001b[43mreraise\u001b[49m\u001b[43m(\u001b[49m\u001b[38;5;28;43mtype\u001b[39;49m\u001b[43m(\u001b[49m\u001b[43merror\u001b[49m\u001b[43m)\u001b[49m\u001b[43m,\u001b[49m\u001b[43m \u001b[49m\u001b[43merror\u001b[49m\u001b[43m,\u001b[49m\u001b[43m \u001b[49m\u001b[43m_stacktrace\u001b[49m\u001b[43m)\u001b[49m\n\u001b[32m    475\u001b[39m \u001b[38;5;28;01melif\u001b[39;00m read \u001b[38;5;129;01mis\u001b[39;00m \u001b[38;5;129;01mnot\u001b[39;00m \u001b[38;5;28;01mNone\u001b[39;00m:\n",
      "\u001b[36mFile \u001b[39m\u001b[32m~/Desktop/deltakit-oss/.pixi/envs/default/lib/python3.13/site-packages/urllib3/util/util.py:38\u001b[39m, in \u001b[36mreraise\u001b[39m\u001b[34m(tp, value, tb)\u001b[39m\n\u001b[32m     37\u001b[39m \u001b[38;5;28;01mif\u001b[39;00m value.__traceback__ \u001b[38;5;129;01mis\u001b[39;00m \u001b[38;5;129;01mnot\u001b[39;00m tb:\n\u001b[32m---> \u001b[39m\u001b[32m38\u001b[39m     \u001b[38;5;28;01mraise\u001b[39;00m value.with_traceback(tb)\n\u001b[32m     39\u001b[39m \u001b[38;5;28;01mraise\u001b[39;00m value\n",
      "\u001b[36mFile \u001b[39m\u001b[32m~/Desktop/deltakit-oss/.pixi/envs/default/lib/python3.13/site-packages/urllib3/connectionpool.py:787\u001b[39m, in \u001b[36mHTTPConnectionPool.urlopen\u001b[39m\u001b[34m(self, method, url, body, headers, retries, redirect, assert_same_host, timeout, pool_timeout, release_conn, chunked, body_pos, preload_content, decode_content, **response_kw)\u001b[39m\n\u001b[32m    786\u001b[39m \u001b[38;5;66;03m# Make the request on the HTTPConnection object\u001b[39;00m\n\u001b[32m--> \u001b[39m\u001b[32m787\u001b[39m response = \u001b[38;5;28;43mself\u001b[39;49m\u001b[43m.\u001b[49m\u001b[43m_make_request\u001b[49m\u001b[43m(\u001b[49m\n\u001b[32m    788\u001b[39m \u001b[43m    \u001b[49m\u001b[43mconn\u001b[49m\u001b[43m,\u001b[49m\n\u001b[32m    789\u001b[39m \u001b[43m    \u001b[49m\u001b[43mmethod\u001b[49m\u001b[43m,\u001b[49m\n\u001b[32m    790\u001b[39m \u001b[43m    \u001b[49m\u001b[43murl\u001b[49m\u001b[43m,\u001b[49m\n\u001b[32m    791\u001b[39m \u001b[43m    \u001b[49m\u001b[43mtimeout\u001b[49m\u001b[43m=\u001b[49m\u001b[43mtimeout_obj\u001b[49m\u001b[43m,\u001b[49m\n\u001b[32m    792\u001b[39m \u001b[43m    \u001b[49m\u001b[43mbody\u001b[49m\u001b[43m=\u001b[49m\u001b[43mbody\u001b[49m\u001b[43m,\u001b[49m\n\u001b[32m    793\u001b[39m \u001b[43m    \u001b[49m\u001b[43mheaders\u001b[49m\u001b[43m=\u001b[49m\u001b[43mheaders\u001b[49m\u001b[43m,\u001b[49m\n\u001b[32m    794\u001b[39m \u001b[43m    \u001b[49m\u001b[43mchunked\u001b[49m\u001b[43m=\u001b[49m\u001b[43mchunked\u001b[49m\u001b[43m,\u001b[49m\n\u001b[32m    795\u001b[39m \u001b[43m    \u001b[49m\u001b[43mretries\u001b[49m\u001b[43m=\u001b[49m\u001b[43mretries\u001b[49m\u001b[43m,\u001b[49m\n\u001b[32m    796\u001b[39m \u001b[43m    \u001b[49m\u001b[43mresponse_conn\u001b[49m\u001b[43m=\u001b[49m\u001b[43mresponse_conn\u001b[49m\u001b[43m,\u001b[49m\n\u001b[32m    797\u001b[39m \u001b[43m    \u001b[49m\u001b[43mpreload_content\u001b[49m\u001b[43m=\u001b[49m\u001b[43mpreload_content\u001b[49m\u001b[43m,\u001b[49m\n\u001b[32m    798\u001b[39m \u001b[43m    \u001b[49m\u001b[43mdecode_content\u001b[49m\u001b[43m=\u001b[49m\u001b[43mdecode_content\u001b[49m\u001b[43m,\u001b[49m\n\u001b[32m    799\u001b[39m \u001b[43m    \u001b[49m\u001b[43m*\u001b[49m\u001b[43m*\u001b[49m\u001b[43mresponse_kw\u001b[49m\u001b[43m,\u001b[49m\n\u001b[32m    800\u001b[39m \u001b[43m\u001b[49m\u001b[43m)\u001b[49m\n\u001b[32m    802\u001b[39m \u001b[38;5;66;03m# Everything went great!\u001b[39;00m\n",
      "\u001b[36mFile \u001b[39m\u001b[32m~/Desktop/deltakit-oss/.pixi/envs/default/lib/python3.13/site-packages/urllib3/connectionpool.py:534\u001b[39m, in \u001b[36mHTTPConnectionPool._make_request\u001b[39m\u001b[34m(self, conn, method, url, body, headers, retries, timeout, chunked, response_conn, preload_content, decode_content, enforce_content_length)\u001b[39m\n\u001b[32m    533\u001b[39m \u001b[38;5;28;01mtry\u001b[39;00m:\n\u001b[32m--> \u001b[39m\u001b[32m534\u001b[39m     response = \u001b[43mconn\u001b[49m\u001b[43m.\u001b[49m\u001b[43mgetresponse\u001b[49m\u001b[43m(\u001b[49m\u001b[43m)\u001b[49m\n\u001b[32m    535\u001b[39m \u001b[38;5;28;01mexcept\u001b[39;00m (BaseSSLError, \u001b[38;5;167;01mOSError\u001b[39;00m) \u001b[38;5;28;01mas\u001b[39;00m e:\n",
      "\u001b[36mFile \u001b[39m\u001b[32m~/Desktop/deltakit-oss/.pixi/envs/default/lib/python3.13/site-packages/urllib3/connection.py:565\u001b[39m, in \u001b[36mHTTPConnection.getresponse\u001b[39m\u001b[34m(self)\u001b[39m\n\u001b[32m    564\u001b[39m \u001b[38;5;66;03m# Get the response from http.client.HTTPConnection\u001b[39;00m\n\u001b[32m--> \u001b[39m\u001b[32m565\u001b[39m httplib_response = \u001b[38;5;28;43msuper\u001b[39;49m\u001b[43m(\u001b[49m\u001b[43m)\u001b[49m\u001b[43m.\u001b[49m\u001b[43mgetresponse\u001b[49m\u001b[43m(\u001b[49m\u001b[43m)\u001b[49m\n\u001b[32m    567\u001b[39m \u001b[38;5;28;01mtry\u001b[39;00m:\n",
      "\u001b[36mFile \u001b[39m\u001b[32m~/Desktop/deltakit-oss/.pixi/envs/default/lib/python3.13/http/client.py:1430\u001b[39m, in \u001b[36mHTTPConnection.getresponse\u001b[39m\u001b[34m(self)\u001b[39m\n\u001b[32m   1429\u001b[39m \u001b[38;5;28;01mtry\u001b[39;00m:\n\u001b[32m-> \u001b[39m\u001b[32m1430\u001b[39m     \u001b[43mresponse\u001b[49m\u001b[43m.\u001b[49m\u001b[43mbegin\u001b[49m\u001b[43m(\u001b[49m\u001b[43m)\u001b[49m\n\u001b[32m   1431\u001b[39m \u001b[38;5;28;01mexcept\u001b[39;00m \u001b[38;5;167;01mConnectionError\u001b[39;00m:\n",
      "\u001b[36mFile \u001b[39m\u001b[32m~/Desktop/deltakit-oss/.pixi/envs/default/lib/python3.13/http/client.py:331\u001b[39m, in \u001b[36mHTTPResponse.begin\u001b[39m\u001b[34m(self)\u001b[39m\n\u001b[32m    330\u001b[39m \u001b[38;5;28;01mwhile\u001b[39;00m \u001b[38;5;28;01mTrue\u001b[39;00m:\n\u001b[32m--> \u001b[39m\u001b[32m331\u001b[39m     version, status, reason = \u001b[38;5;28;43mself\u001b[39;49m\u001b[43m.\u001b[49m\u001b[43m_read_status\u001b[49m\u001b[43m(\u001b[49m\u001b[43m)\u001b[49m\n\u001b[32m    332\u001b[39m     \u001b[38;5;28;01mif\u001b[39;00m status != CONTINUE:\n",
      "\u001b[36mFile \u001b[39m\u001b[32m~/Desktop/deltakit-oss/.pixi/envs/default/lib/python3.13/http/client.py:292\u001b[39m, in \u001b[36mHTTPResponse._read_status\u001b[39m\u001b[34m(self)\u001b[39m\n\u001b[32m    291\u001b[39m \u001b[38;5;28;01mdef\u001b[39;00m\u001b[38;5;250m \u001b[39m\u001b[34m_read_status\u001b[39m(\u001b[38;5;28mself\u001b[39m):\n\u001b[32m--> \u001b[39m\u001b[32m292\u001b[39m     line = \u001b[38;5;28mstr\u001b[39m(\u001b[38;5;28;43mself\u001b[39;49m\u001b[43m.\u001b[49m\u001b[43mfp\u001b[49m\u001b[43m.\u001b[49m\u001b[43mreadline\u001b[49m\u001b[43m(\u001b[49m\u001b[43m_MAXLINE\u001b[49m\u001b[43m \u001b[49m\u001b[43m+\u001b[49m\u001b[43m \u001b[49m\u001b[32;43m1\u001b[39;49m\u001b[43m)\u001b[49m, \u001b[33m\"\u001b[39m\u001b[33miso-8859-1\u001b[39m\u001b[33m\"\u001b[39m)\n\u001b[32m    293\u001b[39m     \u001b[38;5;28;01mif\u001b[39;00m \u001b[38;5;28mlen\u001b[39m(line) > _MAXLINE:\n",
      "\u001b[36mFile \u001b[39m\u001b[32m~/Desktop/deltakit-oss/.pixi/envs/default/lib/python3.13/socket.py:719\u001b[39m, in \u001b[36mSocketIO.readinto\u001b[39m\u001b[34m(self, b)\u001b[39m\n\u001b[32m    718\u001b[39m \u001b[38;5;28;01mtry\u001b[39;00m:\n\u001b[32m--> \u001b[39m\u001b[32m719\u001b[39m     \u001b[38;5;28;01mreturn\u001b[39;00m \u001b[38;5;28;43mself\u001b[39;49m\u001b[43m.\u001b[49m\u001b[43m_sock\u001b[49m\u001b[43m.\u001b[49m\u001b[43mrecv_into\u001b[49m\u001b[43m(\u001b[49m\u001b[43mb\u001b[49m\u001b[43m)\u001b[49m\n\u001b[32m    720\u001b[39m \u001b[38;5;28;01mexcept\u001b[39;00m timeout:\n",
      "\u001b[36mFile \u001b[39m\u001b[32m~/Desktop/deltakit-oss/.pixi/envs/default/lib/python3.13/ssl.py:1304\u001b[39m, in \u001b[36mSSLSocket.recv_into\u001b[39m\u001b[34m(self, buffer, nbytes, flags)\u001b[39m\n\u001b[32m   1301\u001b[39m         \u001b[38;5;28;01mraise\u001b[39;00m \u001b[38;5;167;01mValueError\u001b[39;00m(\n\u001b[32m   1302\u001b[39m           \u001b[33m\"\u001b[39m\u001b[33mnon-zero flags not allowed in calls to recv_into() on \u001b[39m\u001b[38;5;132;01m%s\u001b[39;00m\u001b[33m\"\u001b[39m %\n\u001b[32m   1303\u001b[39m           \u001b[38;5;28mself\u001b[39m.\u001b[34m__class__\u001b[39m)\n\u001b[32m-> \u001b[39m\u001b[32m1304\u001b[39m     \u001b[38;5;28;01mreturn\u001b[39;00m \u001b[38;5;28;43mself\u001b[39;49m\u001b[43m.\u001b[49m\u001b[43mread\u001b[49m\u001b[43m(\u001b[49m\u001b[43mnbytes\u001b[49m\u001b[43m,\u001b[49m\u001b[43m \u001b[49m\u001b[43mbuffer\u001b[49m\u001b[43m)\u001b[49m\n\u001b[32m   1305\u001b[39m \u001b[38;5;28;01melse\u001b[39;00m:\n",
      "\u001b[36mFile \u001b[39m\u001b[32m~/Desktop/deltakit-oss/.pixi/envs/default/lib/python3.13/ssl.py:1138\u001b[39m, in \u001b[36mSSLSocket.read\u001b[39m\u001b[34m(self, len, buffer)\u001b[39m\n\u001b[32m   1137\u001b[39m \u001b[38;5;28;01mif\u001b[39;00m buffer \u001b[38;5;129;01mis\u001b[39;00m \u001b[38;5;129;01mnot\u001b[39;00m \u001b[38;5;28;01mNone\u001b[39;00m:\n\u001b[32m-> \u001b[39m\u001b[32m1138\u001b[39m     \u001b[38;5;28;01mreturn\u001b[39;00m \u001b[38;5;28;43mself\u001b[39;49m\u001b[43m.\u001b[49m\u001b[43m_sslobj\u001b[49m\u001b[43m.\u001b[49m\u001b[43mread\u001b[49m\u001b[43m(\u001b[49m\u001b[38;5;28;43mlen\u001b[39;49m\u001b[43m,\u001b[49m\u001b[43m \u001b[49m\u001b[43mbuffer\u001b[49m\u001b[43m)\u001b[49m\n\u001b[32m   1139\u001b[39m \u001b[38;5;28;01melse\u001b[39;00m:\n",
      "\u001b[31mProtocolError\u001b[39m: ('Connection aborted.', ConnectionResetError(54, 'Connection reset by peer'))",
      "\nDuring handling of the above exception, another exception occurred:\n",
      "\u001b[31mConnectionError\u001b[39m                           Traceback (most recent call last)",
      "\u001b[36mCell\u001b[39m\u001b[36m \u001b[39m\u001b[32mIn[22]\u001b[39m\u001b[32m, line 6\u001b[39m\n\u001b[32m      4\u001b[39m \u001b[38;5;28;01mfor\u001b[39;00m decoder \u001b[38;5;129;01min\u001b[39;00m decoders:\n\u001b[32m      5\u001b[39m     \u001b[38;5;28mprint\u001b[39m(\u001b[33mf\u001b[39m\u001b[33m\"\u001b[39m\u001b[33mDecoding \u001b[39m\u001b[38;5;132;01m{\u001b[39;00mcode_name\u001b[38;5;132;01m}\u001b[39;00m\u001b[33m code with \u001b[39m\u001b[38;5;132;01m{\u001b[39;00mdecoder.\u001b[34m__class__\u001b[39m.\u001b[34m__name__\u001b[39m\u001b[38;5;132;01m}\u001b[39;00m\u001b[33m.\u001b[39m\u001b[33m\"\u001b[39m)\n\u001b[32m----> \u001b[39m\u001b[32m6\u001b[39m     predicted_flips = \u001b[43mdecoder\u001b[49m\u001b[43m.\u001b[49m\u001b[43mdecode_batch_to_logical_flip\u001b[49m\u001b[43m(\u001b[49m\u001b[43mdetection_events\u001b[49m\u001b[43m.\u001b[49m\u001b[43mas_numpy\u001b[49m\u001b[43m(\u001b[49m\u001b[43m)\u001b[49m\u001b[43m,\u001b[49m\u001b[43m \u001b[49m\n\u001b[32m      7\u001b[39m \u001b[43m                                                           \u001b[49m\u001b[43mparallel_jobs\u001b[49m\u001b[43m=\u001b[49m\u001b[32;43m8\u001b[39;49m\u001b[43m)\u001b[49m\n\u001b[32m      9\u001b[39m     shots = predicted_flips.size\n\u001b[32m     10\u001b[39m     fails = np.count_nonzero(logical_flips.as_numpy() != predicted_flips)\n",
      "\u001b[36mFile \u001b[39m\u001b[32m~/Desktop/deltakit-oss/deltakit-explorer/src/deltakit_explorer/_cloud_decoders.py:103\u001b[39m, in \u001b[36m_CloudDecoder.decode_batch_to_logical_flip\u001b[39m\u001b[34m(self, syndrome_batch, leakage_batch, parallel_jobs)\u001b[39m\n\u001b[32m     96\u001b[39m     leakage = types.LeakageFlags(leakage_batch)\n\u001b[32m     97\u001b[39m decoder = types.Decoder(\n\u001b[32m     98\u001b[39m     decoder_type=\u001b[38;5;28mself\u001b[39m._decoder_type,\n\u001b[32m     99\u001b[39m     use_experimental_graph=\u001b[38;5;28mself\u001b[39m.use_experimental_graph,\n\u001b[32m    100\u001b[39m     parameters=\u001b[38;5;28mself\u001b[39m.decoder_parameters,\n\u001b[32m    101\u001b[39m     parallel_jobs=parallel_jobs,\n\u001b[32m    102\u001b[39m )\n\u001b[32m--> \u001b[39m\u001b[32m103\u001b[39m decoding_result = \u001b[38;5;28;43mself\u001b[39;49m\u001b[43m.\u001b[49m\u001b[43mclient\u001b[49m\u001b[43m.\u001b[49m\u001b[43mdecode\u001b[49m\u001b[43m(\u001b[49m\n\u001b[32m    104\u001b[39m \u001b[43m    \u001b[49m\u001b[43mdetectors\u001b[49m\u001b[43m=\u001b[49m\u001b[43mdetectors\u001b[49m\u001b[43m,\u001b[49m\n\u001b[32m    105\u001b[39m \u001b[43m    \u001b[49m\u001b[43mobservables\u001b[49m\u001b[43m=\u001b[49m\u001b[43mobservables\u001b[49m\u001b[43m,\u001b[49m\n\u001b[32m    106\u001b[39m \u001b[43m    \u001b[49m\u001b[43mdecoder\u001b[49m\u001b[43m=\u001b[49m\u001b[43mdecoder\u001b[49m\u001b[43m,\u001b[49m\n\u001b[32m    107\u001b[39m \u001b[43m    \u001b[49m\u001b[43mnoisy_stim_circuit\u001b[49m\u001b[43m=\u001b[49m\u001b[38;5;28;43mself\u001b[39;49m\u001b[43m.\u001b[49m\u001b[43mtext_circuit\u001b[49m\u001b[43m,\u001b[49m\n\u001b[32m    108\u001b[39m \u001b[43m    \u001b[49m\u001b[43mleakage_flags\u001b[49m\u001b[43m=\u001b[49m\u001b[43mleakage\u001b[49m\u001b[43m,\u001b[49m\n\u001b[32m    109\u001b[39m \u001b[43m\u001b[49m\u001b[43m)\u001b[49m\n\u001b[32m    110\u001b[39m \u001b[38;5;28;01mreturn\u001b[39;00m decoding_result.predictions.as_numpy()\n",
      "\u001b[36mFile \u001b[39m\u001b[32m~/Desktop/deltakit-oss/deltakit-explorer/src/deltakit_explorer/_utils/_decorators.py:103\u001b[39m, in \u001b[36mvalidate_and_split_decoding.<locals>.wrapper\u001b[39m\u001b[34m(obj, detectors, observables, decoder, noisy_stim_circuit, leakage_flags)\u001b[39m\n\u001b[32m    100\u001b[39m     tasks = tqdm.tqdm(tasks, \u001b[33m\"\u001b[39m\u001b[33mdecoding batches\u001b[39m\u001b[33m\"\u001b[39m, total=iterations)\n\u001b[32m    102\u001b[39m \u001b[38;5;28;01mfor\u001b[39;00m dets, obs, leakage \u001b[38;5;129;01min\u001b[39;00m tasks:\n\u001b[32m--> \u001b[39m\u001b[32m103\u001b[39m     decoding_result = \u001b[43mfunc\u001b[49m\u001b[43m(\u001b[49m\n\u001b[32m    104\u001b[39m \u001b[43m        \u001b[49m\u001b[43mobj\u001b[49m\u001b[43m,\u001b[49m\u001b[43m \u001b[49m\u001b[43mdets\u001b[49m\u001b[43m,\u001b[49m\u001b[43m \u001b[49m\u001b[43mobs\u001b[49m\u001b[43m,\u001b[49m\n\u001b[32m    105\u001b[39m \u001b[43m        \u001b[49m\u001b[43mdecoder\u001b[49m\u001b[43m,\u001b[49m\u001b[43m \u001b[49m\u001b[43mnoisy_stim_circuit\u001b[49m\u001b[43m,\u001b[49m\u001b[43m \u001b[49m\u001b[43mleakage\u001b[49m\u001b[43m,\u001b[49m\n\u001b[32m    106\u001b[39m \u001b[43m    \u001b[49m\u001b[43m)\u001b[49m\n\u001b[32m    107\u001b[39m     results.append(decoding_result)\n\u001b[32m    108\u001b[39m \u001b[38;5;28;01mreturn\u001b[39;00m DecodingResult.combine(results)\n",
      "\u001b[36mFile \u001b[39m\u001b[32m~/Desktop/deltakit-oss/deltakit-explorer/src/deltakit_explorer/_api/_client.py:206\u001b[39m, in \u001b[36mClient.decode\u001b[39m\u001b[34m(self, detectors, observables, decoder, noisy_stim_circuit, leakage_flags)\u001b[39m\n\u001b[32m    204\u001b[39m query_id = Logging.info_and_generate_uid(\u001b[38;5;28mlocals\u001b[39m())\n\u001b[32m    205\u001b[39m \u001b[38;5;28;01mtry\u001b[39;00m:\n\u001b[32m--> \u001b[39m\u001b[32m206\u001b[39m     \u001b[38;5;28;01mreturn\u001b[39;00m \u001b[38;5;28;43mself\u001b[39;49m\u001b[43m.\u001b[49m\u001b[43m_api\u001b[49m\u001b[43m.\u001b[49m\u001b[43mdecode\u001b[49m\u001b[43m(\u001b[49m\n\u001b[32m    207\u001b[39m \u001b[43m        \u001b[49m\u001b[43mdetectors\u001b[49m\u001b[43m,\u001b[49m\n\u001b[32m    208\u001b[39m \u001b[43m        \u001b[49m\u001b[43mobservables\u001b[49m\u001b[43m,\u001b[49m\n\u001b[32m    209\u001b[39m \u001b[43m        \u001b[49m\u001b[43mdecoder\u001b[49m\u001b[43m,\u001b[49m\n\u001b[32m    210\u001b[39m \u001b[43m        \u001b[49m\u001b[43mnoisy_stim_circuit\u001b[49m\u001b[43m,\u001b[49m\n\u001b[32m    211\u001b[39m \u001b[43m        \u001b[49m\u001b[43mleakage_flags\u001b[49m\u001b[43m,\u001b[49m\n\u001b[32m    212\u001b[39m \u001b[43m        \u001b[49m\u001b[43mquery_id\u001b[49m\u001b[43m,\u001b[49m\n\u001b[32m    213\u001b[39m \u001b[43m    \u001b[49m\u001b[43m)\u001b[49m\n\u001b[32m    214\u001b[39m \u001b[38;5;28;01mexcept\u001b[39;00m \u001b[38;5;167;01mException\u001b[39;00m \u001b[38;5;28;01mas\u001b[39;00m ex:\n\u001b[32m    215\u001b[39m     Logging.error(ex, query_id)\n",
      "\u001b[36mFile \u001b[39m\u001b[32m~/Desktop/deltakit-oss/deltakit-explorer/src/deltakit_explorer/_api/_gql_client.py:363\u001b[39m, in \u001b[36mGQLClient.decode\u001b[39m\u001b[34m(self, detectors, observables, decoder, noisy_stim_circuit, leakage_flags, request_id)\u001b[39m\n\u001b[32m    358\u001b[39m     query_name = APIEndpoints.DECODE\n\u001b[32m    359\u001b[39m Logging.info(\n\u001b[32m    360\u001b[39m     \u001b[33mf\u001b[39m\u001b[33m\"\u001b[39m\u001b[33mDecoding request \u001b[39m\u001b[38;5;132;01m{\u001b[39;00mrequest_id\u001b[38;5;132;01m}\u001b[39;00m\u001b[33m has been sent to a client.\u001b[39m\u001b[33m\"\u001b[39m,\n\u001b[32m    361\u001b[39m     request_id\n\u001b[32m    362\u001b[39m )\n\u001b[32m--> \u001b[39m\u001b[32m363\u001b[39m result = \u001b[38;5;28;43mself\u001b[39;49m\u001b[43m.\u001b[49m\u001b[43mexecute\u001b[49m\u001b[43m(\u001b[49m\u001b[43mquery_name\u001b[49m\u001b[43m,\u001b[49m\u001b[43m \u001b[49m\u001b[43mvariable_values\u001b[49m\u001b[43m,\u001b[49m\u001b[43m \u001b[49m\u001b[43mrequest_id\u001b[49m\u001b[43m)\u001b[49m\n\u001b[32m    364\u001b[39m \u001b[38;5;28;01mreturn\u001b[39;00m DecodingResult(\n\u001b[32m    365\u001b[39m     predictions_format=predictions_format,\n\u001b[32m    366\u001b[39m     **result[\u001b[33m\"\u001b[39m\u001b[33mdecode\u001b[39m\u001b[33m\"\u001b[39m],\n\u001b[32m    367\u001b[39m )\n",
      "\u001b[36mFile \u001b[39m\u001b[32m~/Desktop/deltakit-oss/deltakit-explorer/src/deltakit_explorer/_api/_gql_client.py:211\u001b[39m, in \u001b[36mGQLClient.execute\u001b[39m\u001b[34m(self, query_name, variable_values, request_id)\u001b[39m\n\u001b[32m    203\u001b[39m \u001b[38;5;129m@override\u001b[39m\n\u001b[32m    204\u001b[39m \u001b[38;5;28;01mdef\u001b[39;00m\u001b[38;5;250m \u001b[39m\u001b[34mexecute\u001b[39m(\n\u001b[32m    205\u001b[39m     \u001b[38;5;28mself\u001b[39m,\n\u001b[32m   (...)\u001b[39m\u001b[32m    208\u001b[39m     request_id: \u001b[38;5;28mstr\u001b[39m,\n\u001b[32m    209\u001b[39m ) -> \u001b[38;5;28mdict\u001b[39m[\u001b[38;5;28mstr\u001b[39m, Any]:\n\u001b[32m    210\u001b[39m     query = \u001b[38;5;28mself\u001b[39m._get_query(query_name.value, request_id)\n\u001b[32m--> \u001b[39m\u001b[32m211\u001b[39m     \u001b[38;5;28;01mreturn\u001b[39;00m \u001b[38;5;28;43mself\u001b[39;49m\u001b[43m.\u001b[49m\u001b[43mexecute_query\u001b[49m\u001b[43m(\u001b[49m\u001b[43mquery\u001b[49m\u001b[43m,\u001b[49m\u001b[43m \u001b[49m\u001b[43mvariable_values\u001b[49m\u001b[43m,\u001b[49m\u001b[43m \u001b[49m\u001b[43mrequest_id\u001b[49m\u001b[43m)\u001b[49m\n",
      "\u001b[36mFile \u001b[39m\u001b[32m~/Desktop/deltakit-oss/deltakit-explorer/src/deltakit_explorer/_api/_gql_client.py:190\u001b[39m, in \u001b[36mGQLClient.execute_query\u001b[39m\u001b[34m(self, query, variable_values, query_id)\u001b[39m\n\u001b[32m    188\u001b[39m request = gql(query)\n\u001b[32m    189\u001b[39m \u001b[38;5;28;01mtry\u001b[39;00m:\n\u001b[32m--> \u001b[39m\u001b[32m190\u001b[39m     result = \u001b[38;5;28;43mself\u001b[39;49m\u001b[43m.\u001b[49m\u001b[43m_session\u001b[49m\u001b[43m.\u001b[49m\u001b[43mexecute\u001b[49m\u001b[43m(\u001b[49m\u001b[43mrequest\u001b[49m\u001b[43m,\u001b[49m\u001b[43m \u001b[49m\u001b[43mvariable_values\u001b[49m\u001b[43m=\u001b[49m\u001b[43mvariable_values\u001b[49m\u001b[43m)\u001b[49m\n\u001b[32m    191\u001b[39m     \u001b[38;5;28;01mif\u001b[39;00m \u001b[38;5;28misinstance\u001b[39m(result, ExecutionResult) \u001b[38;5;129;01mand\u001b[39;00m result.errors:\n\u001b[32m    192\u001b[39m         \u001b[38;5;28;01mraise\u001b[39;00m ServerException(\u001b[38;5;28mstr\u001b[39m(result.errors[\u001b[32m0\u001b[39m].message))\n",
      "\u001b[36mFile \u001b[39m\u001b[32m~/Desktop/deltakit-oss/.pixi/envs/default/lib/python3.13/site-packages/gql/client.py:1016\u001b[39m, in \u001b[36mSyncClientSession.execute\u001b[39m\u001b[34m(self, document, variable_values, operation_name, serialize_variables, parse_result, get_execution_result, **kwargs)\u001b[39m\n\u001b[32m    996\u001b[39m \u001b[38;5;250m\u001b[39m\u001b[33;03m\"\"\"Execute the provided document AST synchronously using\u001b[39;00m\n\u001b[32m    997\u001b[39m \u001b[33;03mthe sync transport.\u001b[39;00m\n\u001b[32m    998\u001b[39m \n\u001b[32m   (...)\u001b[39m\u001b[32m   1012\u001b[39m \n\u001b[32m   1013\u001b[39m \u001b[33;03mThe extra arguments are passed to the transport execute method.\"\"\"\u001b[39;00m\n\u001b[32m   1015\u001b[39m \u001b[38;5;66;03m# Validate and execute on the transport\u001b[39;00m\n\u001b[32m-> \u001b[39m\u001b[32m1016\u001b[39m result = \u001b[38;5;28;43mself\u001b[39;49m\u001b[43m.\u001b[49m\u001b[43m_execute\u001b[49m\u001b[43m(\u001b[49m\n\u001b[32m   1017\u001b[39m \u001b[43m    \u001b[49m\u001b[43mdocument\u001b[49m\u001b[43m,\u001b[49m\n\u001b[32m   1018\u001b[39m \u001b[43m    \u001b[49m\u001b[43mvariable_values\u001b[49m\u001b[43m=\u001b[49m\u001b[43mvariable_values\u001b[49m\u001b[43m,\u001b[49m\n\u001b[32m   1019\u001b[39m \u001b[43m    \u001b[49m\u001b[43moperation_name\u001b[49m\u001b[43m=\u001b[49m\u001b[43moperation_name\u001b[49m\u001b[43m,\u001b[49m\n\u001b[32m   1020\u001b[39m \u001b[43m    \u001b[49m\u001b[43mserialize_variables\u001b[49m\u001b[43m=\u001b[49m\u001b[43mserialize_variables\u001b[49m\u001b[43m,\u001b[49m\n\u001b[32m   1021\u001b[39m \u001b[43m    \u001b[49m\u001b[43mparse_result\u001b[49m\u001b[43m=\u001b[49m\u001b[43mparse_result\u001b[49m\u001b[43m,\u001b[49m\n\u001b[32m   1022\u001b[39m \u001b[43m    \u001b[49m\u001b[43m*\u001b[49m\u001b[43m*\u001b[49m\u001b[43mkwargs\u001b[49m\u001b[43m,\u001b[49m\n\u001b[32m   1023\u001b[39m \u001b[43m\u001b[49m\u001b[43m)\u001b[49m\n\u001b[32m   1025\u001b[39m \u001b[38;5;66;03m# Raise an error if an error is returned in the ExecutionResult object\u001b[39;00m\n\u001b[32m   1026\u001b[39m \u001b[38;5;28;01mif\u001b[39;00m result.errors:\n",
      "\u001b[36mFile \u001b[39m\u001b[32m~/Desktop/deltakit-oss/.pixi/envs/default/lib/python3.13/site-packages/gql/client.py:925\u001b[39m, in \u001b[36mSyncClientSession._execute\u001b[39m\u001b[34m(self, document, variable_values, operation_name, serialize_variables, parse_result, **kwargs)\u001b[39m\n\u001b[32m    922\u001b[39m     result = future_result.result()\n\u001b[32m    924\u001b[39m \u001b[38;5;28;01melse\u001b[39;00m:\n\u001b[32m--> \u001b[39m\u001b[32m925\u001b[39m     result = \u001b[38;5;28;43mself\u001b[39;49m\u001b[43m.\u001b[49m\u001b[43mtransport\u001b[49m\u001b[43m.\u001b[49m\u001b[43mexecute\u001b[49m\u001b[43m(\u001b[49m\n\u001b[32m    926\u001b[39m \u001b[43m        \u001b[49m\u001b[43mdocument\u001b[49m\u001b[43m,\u001b[49m\n\u001b[32m    927\u001b[39m \u001b[43m        \u001b[49m\u001b[43mvariable_values\u001b[49m\u001b[43m=\u001b[49m\u001b[43mvariable_values\u001b[49m\u001b[43m,\u001b[49m\n\u001b[32m    928\u001b[39m \u001b[43m        \u001b[49m\u001b[43moperation_name\u001b[49m\u001b[43m=\u001b[49m\u001b[43moperation_name\u001b[49m\u001b[43m,\u001b[49m\n\u001b[32m    929\u001b[39m \u001b[43m        \u001b[49m\u001b[43m*\u001b[49m\u001b[43m*\u001b[49m\u001b[43mkwargs\u001b[49m\u001b[43m,\u001b[49m\n\u001b[32m    930\u001b[39m \u001b[43m    \u001b[49m\u001b[43m)\u001b[49m\n\u001b[32m    932\u001b[39m \u001b[38;5;66;03m# Unserialize the result if requested\u001b[39;00m\n\u001b[32m    933\u001b[39m \u001b[38;5;28;01mif\u001b[39;00m \u001b[38;5;28mself\u001b[39m.client.schema:\n",
      "\u001b[36mFile \u001b[39m\u001b[32m~/Desktop/deltakit-oss/.pixi/envs/default/lib/python3.13/site-packages/gql/transport/requests.py:237\u001b[39m, in \u001b[36mRequestsHTTPTransport.execute\u001b[39m\u001b[34m(self, document, variable_values, operation_name, timeout, extra_args, upload_files)\u001b[39m\n\u001b[32m    234\u001b[39m     post_args.update(extra_args)\n\u001b[32m    236\u001b[39m \u001b[38;5;66;03m# Using the created session to perform requests\u001b[39;00m\n\u001b[32m--> \u001b[39m\u001b[32m237\u001b[39m response = \u001b[38;5;28;43mself\u001b[39;49m\u001b[43m.\u001b[49m\u001b[43msession\u001b[49m\u001b[43m.\u001b[49m\u001b[43mrequest\u001b[49m\u001b[43m(\u001b[49m\n\u001b[32m    238\u001b[39m \u001b[43m    \u001b[49m\u001b[38;5;28;43mself\u001b[39;49m\u001b[43m.\u001b[49m\u001b[43mmethod\u001b[49m\u001b[43m,\u001b[49m\u001b[43m \u001b[49m\u001b[38;5;28;43mself\u001b[39;49m\u001b[43m.\u001b[49m\u001b[43murl\u001b[49m\u001b[43m,\u001b[49m\u001b[43m \u001b[49m\u001b[43m*\u001b[49m\u001b[43m*\u001b[49m\u001b[43mpost_args\u001b[49m\u001b[43m  \u001b[49m\u001b[38;5;66;43;03m# type: ignore\u001b[39;49;00m\n\u001b[32m    239\u001b[39m \u001b[43m\u001b[49m\u001b[43m)\u001b[49m\n\u001b[32m    240\u001b[39m \u001b[38;5;28mself\u001b[39m.response_headers = response.headers\n\u001b[32m    242\u001b[39m \u001b[38;5;28;01mdef\u001b[39;00m\u001b[38;5;250m \u001b[39m\u001b[34mraise_response_error\u001b[39m(resp: requests.Response, reason: \u001b[38;5;28mstr\u001b[39m):\n\u001b[32m    243\u001b[39m     \u001b[38;5;66;03m# We raise a TransportServerError if the status code is 400 or higher\u001b[39;00m\n\u001b[32m    244\u001b[39m     \u001b[38;5;66;03m# We raise a TransportProtocolError in the other cases\u001b[39;00m\n",
      "\u001b[36mFile \u001b[39m\u001b[32m~/Desktop/deltakit-oss/.pixi/envs/default/lib/python3.13/site-packages/requests/sessions.py:589\u001b[39m, in \u001b[36mSession.request\u001b[39m\u001b[34m(self, method, url, params, data, headers, cookies, files, auth, timeout, allow_redirects, proxies, hooks, stream, verify, cert, json)\u001b[39m\n\u001b[32m    584\u001b[39m send_kwargs = {\n\u001b[32m    585\u001b[39m     \u001b[33m\"\u001b[39m\u001b[33mtimeout\u001b[39m\u001b[33m\"\u001b[39m: timeout,\n\u001b[32m    586\u001b[39m     \u001b[33m\"\u001b[39m\u001b[33mallow_redirects\u001b[39m\u001b[33m\"\u001b[39m: allow_redirects,\n\u001b[32m    587\u001b[39m }\n\u001b[32m    588\u001b[39m send_kwargs.update(settings)\n\u001b[32m--> \u001b[39m\u001b[32m589\u001b[39m resp = \u001b[38;5;28;43mself\u001b[39;49m\u001b[43m.\u001b[49m\u001b[43msend\u001b[49m\u001b[43m(\u001b[49m\u001b[43mprep\u001b[49m\u001b[43m,\u001b[49m\u001b[43m \u001b[49m\u001b[43m*\u001b[49m\u001b[43m*\u001b[49m\u001b[43msend_kwargs\u001b[49m\u001b[43m)\u001b[49m\n\u001b[32m    591\u001b[39m \u001b[38;5;28;01mreturn\u001b[39;00m resp\n",
      "\u001b[36mFile \u001b[39m\u001b[32m~/Desktop/deltakit-oss/.pixi/envs/default/lib/python3.13/site-packages/requests/sessions.py:703\u001b[39m, in \u001b[36mSession.send\u001b[39m\u001b[34m(self, request, **kwargs)\u001b[39m\n\u001b[32m    700\u001b[39m start = preferred_clock()\n\u001b[32m    702\u001b[39m \u001b[38;5;66;03m# Send the request\u001b[39;00m\n\u001b[32m--> \u001b[39m\u001b[32m703\u001b[39m r = \u001b[43madapter\u001b[49m\u001b[43m.\u001b[49m\u001b[43msend\u001b[49m\u001b[43m(\u001b[49m\u001b[43mrequest\u001b[49m\u001b[43m,\u001b[49m\u001b[43m \u001b[49m\u001b[43m*\u001b[49m\u001b[43m*\u001b[49m\u001b[43mkwargs\u001b[49m\u001b[43m)\u001b[49m\n\u001b[32m    705\u001b[39m \u001b[38;5;66;03m# Total elapsed time of the request (approximately)\u001b[39;00m\n\u001b[32m    706\u001b[39m elapsed = preferred_clock() - start\n",
      "\u001b[36mFile \u001b[39m\u001b[32m~/Desktop/deltakit-oss/.pixi/envs/default/lib/python3.13/site-packages/requests/adapters.py:682\u001b[39m, in \u001b[36mHTTPAdapter.send\u001b[39m\u001b[34m(self, request, stream, timeout, verify, cert, proxies)\u001b[39m\n\u001b[32m    667\u001b[39m     resp = conn.urlopen(\n\u001b[32m    668\u001b[39m         method=request.method,\n\u001b[32m    669\u001b[39m         url=url,\n\u001b[32m   (...)\u001b[39m\u001b[32m    678\u001b[39m         chunked=chunked,\n\u001b[32m    679\u001b[39m     )\n\u001b[32m    681\u001b[39m \u001b[38;5;28;01mexcept\u001b[39;00m (ProtocolError, \u001b[38;5;167;01mOSError\u001b[39;00m) \u001b[38;5;28;01mas\u001b[39;00m err:\n\u001b[32m--> \u001b[39m\u001b[32m682\u001b[39m     \u001b[38;5;28;01mraise\u001b[39;00m \u001b[38;5;167;01mConnectionError\u001b[39;00m(err, request=request)\n\u001b[32m    684\u001b[39m \u001b[38;5;28;01mexcept\u001b[39;00m MaxRetryError \u001b[38;5;28;01mas\u001b[39;00m e:\n\u001b[32m    685\u001b[39m     \u001b[38;5;28;01mif\u001b[39;00m \u001b[38;5;28misinstance\u001b[39m(e.reason, ConnectTimeoutError):\n\u001b[32m    686\u001b[39m         \u001b[38;5;66;03m# TODO: Remove this in 3.0.0: see #2811\u001b[39;00m\n",
      "\u001b[31mConnectionError\u001b[39m: ('Connection aborted.', ConnectionResetError(54, 'Connection reset by peer'))"
     ]
    }
   ],
   "source": [
    "from time import perf_counter\n",
    "leps = []\n",
    "times = []\n",
    "for decoder in decoders:\n",
    "    print(f\"Decoding {code_name} code with {decoder.__class__.__name__}.\")\n",
    "    predicted_flips = decoder.decode_batch_to_logical_flip(detection_events.as_numpy(), \n",
    "                                                           parallel_jobs=8)\n",
    "\n",
    "    shots = predicted_flips.size\n",
    "    fails = np.count_nonzero(logical_flips.as_numpy() != predicted_flips)\n",
    "    lep, std_deviation = calculate_lep_and_lep_stddev(fails, shots)"
   ]
  },
  {
   "cell_type": "code",
   "execution_count": null,
   "id": "cf9e799e",
   "metadata": {},
   "outputs": [],
   "source": [
    "# to be translated after resolving the error above\n",
    "\n",
    "print(\"\\n Decoder | Logical error probability | Total CPU time (all cores), s\")\n",
    "print(\"-\" * 69)\n",
    "for decoder, result in decoding_results.items():\n",
    "    decoding_time = sum(result.times)\n",
    "    print(f\" {decoder.value:7s} | {result.get_logical_error_probability():25.2} |\\t\\t{decoding_time:.4f}\")"
   ]
  }
 ],
 "metadata": {
  "kernelspec": {
   "display_name": "Python 3 (ipykernel)",
   "language": "python",
   "name": "python3"
  },
  "language_info": {
   "codemirror_mode": {
    "name": "ipython",
    "version": 3
   },
   "file_extension": ".py",
   "mimetype": "text/x-python",
   "name": "python",
   "nbconvert_exporter": "python",
   "pygments_lexer": "ipython3",
   "version": "3.13.5"
  }
 },
 "nbformat": 4,
 "nbformat_minor": 5
}
